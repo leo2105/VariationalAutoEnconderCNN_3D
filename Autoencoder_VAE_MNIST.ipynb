{
 "cells": [
  {
   "cell_type": "markdown",
   "metadata": {},
   "source": [
    "## VAE with NN-FullyConnected 2D and MNIST"
   ]
  },
  {
   "cell_type": "code",
   "execution_count": 1,
   "metadata": {},
   "outputs": [
    {
     "name": "stderr",
     "output_type": "stream",
     "text": [
      "/home/computadora1/miniconda3/envs/tf-1.5/lib/python3.5/site-packages/h5py/__init__.py:36: FutureWarning: Conversion of the second argument of issubdtype from `float` to `np.floating` is deprecated. In future, it will be treated as `np.float64 == np.dtype(float).type`.\n",
      "  from ._conv import register_converters as _register_converters\n"
     ]
    },
    {
     "name": "stdout",
     "output_type": "stream",
     "text": [
      "1.4.0\n"
     ]
    }
   ],
   "source": [
    "import tensorflow as tf\n",
    "import time\n",
    "import numpy as np\n",
    "print(tf.__version__)\n",
    "\n",
    "# %matplotlib inline\n",
    "# %load_ext autoreload\n",
    "# %autoreload 2\n",
    "# %matplotlib notebook"
   ]
  },
  {
   "cell_type": "code",
   "execution_count": 2,
   "metadata": {},
   "outputs": [
    {
     "name": "stdout",
     "output_type": "stream",
     "text": [
      "Successfully downloaded train-images-idx3-ubyte.gz 9912422 bytes.\n",
      "Extracting MNIST_data/train-images-idx3-ubyte.gz\n",
      "Successfully downloaded train-labels-idx1-ubyte.gz 28881 bytes.\n",
      "Extracting MNIST_data/train-labels-idx1-ubyte.gz\n",
      "Successfully downloaded t10k-images-idx3-ubyte.gz 1648877 bytes.\n",
      "Extracting MNIST_data/t10k-images-idx3-ubyte.gz\n",
      "Successfully downloaded t10k-labels-idx1-ubyte.gz 4542 bytes.\n",
      "Extracting MNIST_data/t10k-labels-idx1-ubyte.gz\n"
     ]
    }
   ],
   "source": [
    "from tensorflow.examples.tutorials.mnist import input_data\n",
    "mnist = input_data.read_data_sets(\"MNIST_data/\", one_hot=True, reshape=True)"
   ]
  },
  {
   "cell_type": "code",
   "execution_count": 3,
   "metadata": {},
   "outputs": [],
   "source": [
    "import matplotlib.pyplot as plt\n",
    "from matplotlib.pyplot import figure, imshow, axis\n",
    "\n",
    "\n",
    "def mnist_grid(X):\n",
    "    X = X.reshape([-1,28,28])\n",
    "    num_images = X.shape[0]\n",
    "    fig = figure()\n",
    "    fig.set_size_inches(10,10)\n",
    "    \n",
    "    for i in range(num_images):\n",
    "        a = fig.add_subplot(1, num_images, i+1)\n",
    "        image = X[i,:]\n",
    "        imshow(image, cmap='gray')\n",
    "        axis('off')\n",
    "    \n",
    "    plt.show()"
   ]
  },
  {
   "cell_type": "code",
   "execution_count": 4,
   "metadata": {},
   "outputs": [
    {
     "data": {
      "image/png": "[encoded data removed]",
      "text/plain": [
       "<matplotlib.figure.Figure at 0x7f7d41fa8c88>"
      ]
     },
     "metadata": {},
     "output_type": "display_data"
    },
    {
     "name": "stdout",
     "output_type": "stream",
     "text": [
      "(3000, 784)\n",
      "(750, 784)\n"
     ]
    },
    {
     "data": {
      "text/plain": [
       "numpy.ndarray"
      ]
     },
     "execution_count": 4,
     "metadata": {},
     "output_type": "execute_result"
    }
   ],
   "source": [
    "X_train = mnist.train.images[:3000]\n",
    "X_valid= mnist.validation.images[:750]\n",
    "mnist_grid(X_train[:10])\n",
    "print(X_train.shape)\n",
    "print(X_valid.shape)\n",
    "type(X_train)"
   ]
  },
  {
   "cell_type": "code",
   "execution_count": 5,
   "metadata": {},
   "outputs": [],
   "source": [
    "tf.reset_default_graph()\n",
    "\n",
    "n_inputs = X_train.shape[1]\n",
    "n_hidden1 = 256\n",
    "n_hidden2 = 256\n",
    "n_hidden3 = 32\n",
    "n_hidden4 = n_hidden2\n",
    "n_hidden5 = n_hidden1\n",
    "n_outputs = n_inputs\n",
    "\n",
    "x = tf.placeholder(tf.float32, shape=[None, n_inputs])\n",
    "hidden1 = tf.layers.dense(x, n_hidden1, activation=tf.nn.elu)\n",
    "hidden2 = tf.layers.dense(hidden1, n_hidden2, activation=tf.nn.elu)\n",
    "hidden3_mean = tf.layers.dense(hidden2, n_hidden3, activation=None)\n",
    "hidden3_sigma = tf.layers.dense(hidden2, n_hidden3, activation=None)\n",
    "noise = tf.random_normal(tf.shape(hidden3_sigma), dtype=tf.float32)\n",
    "hidden3 = hidden3_mean + hidden3_sigma * noise\n",
    "hidden4 = tf.layers.dense(hidden3, n_hidden4, activation=tf.nn.elu)\n",
    "hidden5 = tf.layers.dense(hidden4, n_hidden5, activation=tf.nn.elu)\n",
    "logits = tf.layers.dense(hidden5, n_outputs, activation=None)\n",
    "outputs = tf.sigmoid(logits)\n",
    "\n",
    "\n",
    "#\n",
    "# Funcion de perdida (MSE) y entrenamiento\n",
    "#\n",
    "xentropy = tf.nn.sigmoid_cross_entropy_with_logits(labels=x, logits=logits)\n",
    "xentropy_loss = tf.reduce_sum(xentropy)\n",
    "eps = 1e-10\n",
    "latent_loss = 0.5 * tf.reduce_sum(\n",
    "    # centre en 0 y los demas los centre a 1\n",
    "    tf.square(hidden3_sigma) + tf.square(hidden3_mean) - 1 - tf.log(eps + tf.square(hidden3_sigma))\n",
    ") \n",
    "\n",
    "loss = xentropy_loss + latent_loss\n",
    "\n",
    "mse_loss = tf.reduce_mean(tf.reduce_sum(tf.square(x - outputs), axis=1))\n",
    "\n",
    "optimizer = tf.train.AdamOptimizer()\n",
    "training_op = optimizer.minimize(loss)\n",
    "saver = tf.train.Saver()"
   ]
  },
  {
   "cell_type": "code",
   "execution_count": 6,
   "metadata": {},
   "outputs": [],
   "source": [
    "tf.reset_default_graph()\n",
    "\n",
    "n_inputs = X_train.shape[1]\n",
    "n_hidden1 = 256\n",
    "n_hidden2 = 256\n",
    "n_hidden3 = 32\n",
    "n_hidden4 = n_hidden2\n",
    "n_hidden5 = n_hidden1\n",
    "n_outputs = n_inputs\n",
    "\n",
    "x = tf.placeholder(tf.float32, shape=[None, n_inputs])\n",
    "hidden1 = tf.layers.dense(x, n_hidden1, activation=tf.nn.elu)\n",
    "hidden2 = tf.layers.dense(hidden1, n_hidden2, activation=tf.nn.elu)\n",
    "hidden3_mean = tf.layers.dense(hidden2, n_hidden3, activation=None)\n",
    "hidden3_sigma = tf.layers.dense(hidden2, n_hidden3, activation=None)\n",
    "noise = tf.random_normal(tf.shape(hidden3_sigma), dtype=tf.float32)\n",
    "hidden3 = hidden3_mean + hidden3_sigma * noise\n",
    "hidden4 = tf.layers.dense(hidden3, n_hidden4, activation=tf.nn.elu)\n",
    "hidden5 = tf.layers.dense(hidden4, n_hidden5, activation=tf.nn.elu)\n",
    "logits = tf.layers.dense(hidden5, n_outputs, activation=None)\n",
    "outputs = tf.sigmoid(logits)\n",
    "\n",
    "# MSE loss\n",
    "def lossFunction(X):\n",
    "    mse_loss = tf.reduce_mean(tf.reduce_sum(tf.square(X - outputs), axis=1))\n",
    "    return mse_loss\n",
    "\n",
    "#\n",
    "# Funcion de perdida (MSE) y entrenamiento\n",
    "#\n",
    "xentropy = tf.nn.sigmoid_cross_entropy_with_logits(labels=x, logits=logits)\n",
    "xentropy_loss = tf.reduce_sum(xentropy)\n",
    "eps = 1e-10\n",
    "latent_loss = 0.5 * tf.reduce_sum(\n",
    "    # centre en 0 y los demas los centre a 1\n",
    "    tf.square(hidden3_sigma) + tf.square(hidden3_mean) - 1 - tf.log(eps + tf.square(hidden3_sigma))\n",
    ") \n",
    "\n",
    "loss = xentropy_loss + latent_loss\n",
    "\n",
    "optimizer = tf.train.AdamOptimizer()\n",
    "training_op = optimizer.minimize(loss)\n",
    "\n",
    "loss_training = lossFunction(X_train) \n",
    "loss_validation = lossFunction(X_valid)\n",
    "\n",
    "saver = tf.train.Saver()"
   ]
  },
  {
   "cell_type": "code",
   "execution_count": 7,
   "metadata": {},
   "outputs": [
    {
     "ename": "NameError",
     "evalue": "name 'X' is not defined",
     "output_type": "error",
     "traceback": [
      "\u001b[0;31m---------------------------------------------------------------------------\u001b[0m",
      "\u001b[0;31mNameError\u001b[0m                                 Traceback (most recent call last)",
      "\u001b[0;32m<ipython-input-7-765adbdf4184>\u001b[0m in \u001b[0;36m<module>\u001b[0;34m()\u001b[0m\n\u001b[1;32m      4\u001b[0m     \u001b[0msess\u001b[0m\u001b[0;34m.\u001b[0m\u001b[0mrun\u001b[0m\u001b[0;34m(\u001b[0m\u001b[0mtf\u001b[0m\u001b[0;34m.\u001b[0m\u001b[0mglobal_variables_initializer\u001b[0m\u001b[0;34m(\u001b[0m\u001b[0;34m)\u001b[0m\u001b[0;34m)\u001b[0m\u001b[0;34m\u001b[0m\u001b[0m\n\u001b[1;32m      5\u001b[0m     \u001b[0;32mfor\u001b[0m \u001b[0miteration\u001b[0m \u001b[0;32min\u001b[0m \u001b[0mrange\u001b[0m\u001b[0;34m(\u001b[0m\u001b[0mn_iterations\u001b[0m\u001b[0;34m)\u001b[0m\u001b[0;34m:\u001b[0m\u001b[0;34m\u001b[0m\u001b[0m\n\u001b[0;32m----> 6\u001b[0;31m         \u001b[0m_\u001b[0m\u001b[0;34m,\u001b[0m \u001b[0mmse\u001b[0m \u001b[0;34m=\u001b[0m \u001b[0msess\u001b[0m\u001b[0;34m.\u001b[0m\u001b[0mrun\u001b[0m\u001b[0;34m(\u001b[0m\u001b[0;34m[\u001b[0m\u001b[0mtraining_op\u001b[0m\u001b[0;34m,\u001b[0m \u001b[0mmse_loss\u001b[0m\u001b[0;34m]\u001b[0m\u001b[0;34m,\u001b[0m \u001b[0mfeed_dict\u001b[0m\u001b[0;34m=\u001b[0m\u001b[0;34m{\u001b[0m\u001b[0mx\u001b[0m\u001b[0;34m:\u001b[0m \u001b[0mX\u001b[0m\u001b[0;34m}\u001b[0m\u001b[0;34m)\u001b[0m\u001b[0;34m\u001b[0m\u001b[0m\n\u001b[0m\u001b[1;32m      7\u001b[0m \u001b[0;34m\u001b[0m\u001b[0m\n\u001b[1;32m      8\u001b[0m         \u001b[0;32mif\u001b[0m \u001b[0miteration\u001b[0m \u001b[0;34m%\u001b[0m \u001b[0;36m100\u001b[0m \u001b[0;34m==\u001b[0m \u001b[0;36m0\u001b[0m\u001b[0;34m:\u001b[0m\u001b[0;34m\u001b[0m\u001b[0m\n",
      "\u001b[0;31mNameError\u001b[0m: name 'X' is not defined"
     ]
    }
   ],
   "source": [
    "n_iterations = 10001\n",
    "\n",
    "with tf.Session() as sess:\n",
    "    sess.run(tf.global_variables_initializer())\n",
    "    for iteration in range(n_iterations):\n",
    "        _, mse = sess.run([training_op, mse_loss], feed_dict={x: X})\n",
    "        \n",
    "        if iteration % 100 == 0:\n",
    "            print('Iteración: {:04d}, MSE: {:.9f}'.format(iteration, mse))\n",
    "            R = sess.run(outputs, feed_dict={x:X[:10]})\n",
    "            mnist_grid(R)\n",
    "    saver.save(sess, \"./VAE.ckpt\")"
   ]
  },
  {
   "cell_type": "code",
   "execution_count": 14,
   "metadata": {
    "scrolled": true
   },
   "outputs": [
    {
     "name": "stderr",
     "output_type": "stream",
     "text": [
      "/home/computadora1/miniconda3/envs/tf-1.5/lib/python3.5/site-packages/matplotlib/figure.py:418: UserWarning: matplotlib is currently using a non-GUI backend, so cannot show the figure\n",
      "  \"matplotlib is currently using a non-GUI backend, \"\n"
     ]
    },
    {
     "name": "stdout",
     "output_type": "stream",
     "text": [
      "Iteracion: 0000\n",
      "MSE_train: 183.266723633\n",
      "MSE_valid: 179.084442139\n",
      "Iteracion: 0100\n",
      "MSE_train: 40.531349182\n",
      "MSE_valid: 39.884262085\n",
      "Iteracion: 0200\n",
      "MSE_train: 31.156316757\n",
      "MSE_valid: 31.042732239\n",
      "Iteracion: 0300\n",
      "MSE_train: 27.079961777\n",
      "MSE_valid: 27.718334198\n",
      "Iteracion: 0400\n",
      "MSE_train: 21.380931854\n",
      "MSE_valid: 21.960168839\n",
      "Iteracion: 0500\n",
      "MSE_train: 18.747453690\n",
      "MSE_valid: 19.748104095\n",
      "Iteracion: 0600\n",
      "MSE_train: 16.761035919\n",
      "MSE_valid: 17.991750717\n",
      "Iteracion: 0700\n",
      "MSE_train: 15.493933678\n",
      "MSE_valid: 16.956392288\n",
      "Iteracion: 0800\n",
      "MSE_train: 14.280868530\n",
      "MSE_valid: 16.143825531\n",
      "Iteracion: 0900\n",
      "MSE_train: 13.387927055\n",
      "MSE_valid: 15.414913177\n",
      "Iteracion: 1000\n",
      "MSE_train: 12.718621254\n",
      "MSE_valid: 15.025743484\n",
      "Iteracion: 1100\n",
      "MSE_train: 12.014859200\n",
      "MSE_valid: 14.878195763\n",
      "Iteracion: 1200\n",
      "MSE_train: 11.510489464\n",
      "MSE_valid: 14.433108330\n",
      "Iteracion: 1300\n",
      "MSE_train: 11.026132584\n",
      "MSE_valid: 14.243072510\n",
      "Iteracion: 1400\n",
      "MSE_train: 10.705769539\n",
      "MSE_valid: 14.028192520\n",
      "Iteracion: 1500\n",
      "MSE_train: 10.163128853\n",
      "MSE_valid: 13.888864517\n",
      "Iteracion: 1600\n",
      "MSE_train: 9.916036606\n",
      "MSE_valid: 13.676451683\n",
      "Iteracion: 1700\n",
      "MSE_train: 9.508611679\n",
      "MSE_valid: 13.588321686\n",
      "Iteracion: 1800\n",
      "MSE_train: 9.430893898\n",
      "MSE_valid: 13.694203377\n",
      "Iteracion: 1900\n",
      "MSE_train: 9.054553032\n",
      "MSE_valid: 13.448782921\n",
      "Iteracion: 2000\n",
      "MSE_train: 8.548562050\n",
      "MSE_valid: 13.480986595\n",
      "Iteracion: 2100\n",
      "MSE_train: 8.545558929\n",
      "MSE_valid: 13.322898865\n",
      "Iteracion: 2200\n",
      "MSE_train: 8.281462669\n",
      "MSE_valid: 13.503364563\n",
      "Iteracion: 2300\n",
      "MSE_train: 7.885282040\n",
      "MSE_valid: 13.476530075\n",
      "Iteracion: 2400\n",
      "MSE_train: 7.999807358\n",
      "MSE_valid: 13.487318993\n",
      "Iteracion: 2500\n",
      "MSE_train: 7.761063099\n",
      "MSE_valid: 13.415120125\n",
      "Iteracion: 2600\n",
      "MSE_train: 7.493804455\n",
      "MSE_valid: 13.407141685\n",
      "Iteracion: 2700\n",
      "MSE_train: 7.428878784\n",
      "MSE_valid: 13.321346283\n",
      "Iteracion: 2800\n",
      "MSE_train: 7.222672939\n",
      "MSE_valid: 13.419262886\n",
      "Iteracion: 2900\n",
      "MSE_train: 7.096657753\n",
      "MSE_valid: 13.589377403\n",
      "Iteracion: 3000\n",
      "MSE_train: 6.981548309\n",
      "MSE_valid: 13.464942932\n",
      "Iteracion: 3100\n",
      "MSE_train: 6.924093723\n",
      "MSE_valid: 13.519448280\n",
      "Iteracion: 3200\n",
      "MSE_train: 6.696857929\n",
      "MSE_valid: 13.523036003\n",
      "Iteracion: 3300\n",
      "MSE_train: 6.760239601\n",
      "MSE_valid: 13.566431046\n",
      "Iteracion: 3400\n",
      "MSE_train: 6.443088531\n",
      "MSE_valid: 13.437379837\n",
      "Iteracion: 3500\n",
      "MSE_train: 6.361402512\n",
      "MSE_valid: 13.701114655\n",
      "Iteracion: 3600\n",
      "MSE_train: 6.395892143\n",
      "MSE_valid: 13.678364754\n",
      "Iteracion: 3700\n",
      "MSE_train: 6.329447746\n",
      "MSE_valid: 13.696104050\n",
      "Iteracion: 3800\n",
      "MSE_train: 6.173344612\n",
      "MSE_valid: 13.729203224\n",
      "Iteracion: 3900\n",
      "MSE_train: 6.050152302\n",
      "MSE_valid: 13.905067444\n",
      "Iteracion: 4000\n",
      "MSE_train: 5.900867939\n",
      "MSE_valid: 13.621978760\n",
      "Iteracion: 4100\n",
      "MSE_train: 5.991109848\n",
      "MSE_valid: 13.704346657\n",
      "Iteracion: 4200\n",
      "MSE_train: 5.825369358\n",
      "MSE_valid: 13.768617630\n",
      "Iteracion: 4300\n",
      "MSE_train: 5.871983528\n",
      "MSE_valid: 13.863833427\n",
      "Iteracion: 4400\n",
      "MSE_train: 5.661843300\n",
      "MSE_valid: 13.871510506\n",
      "Iteracion: 4500\n",
      "MSE_train: 5.681946754\n",
      "MSE_valid: 13.879918098\n",
      "Iteracion: 4600\n",
      "MSE_train: 5.748925686\n",
      "MSE_valid: 14.000807762\n",
      "Iteracion: 4700\n",
      "MSE_train: 5.584652424\n",
      "MSE_valid: 13.914304733\n",
      "Iteracion: 4800\n",
      "MSE_train: 5.434333801\n",
      "MSE_valid: 14.029162407\n",
      "Iteracion: 4900\n",
      "MSE_train: 5.428905964\n",
      "MSE_valid: 13.968424797\n",
      "Iteracion: 5000\n",
      "MSE_train: 5.415406227\n",
      "MSE_valid: 14.098845482\n",
      "Iteracion: 5100\n",
      "MSE_train: 5.328503609\n",
      "MSE_valid: 14.037494659\n",
      "Iteracion: 5200\n",
      "MSE_train: 5.489097595\n",
      "MSE_valid: 14.081888199\n",
      "Iteracion: 5300\n",
      "MSE_train: 5.338957787\n",
      "MSE_valid: 14.108577728\n",
      "Iteracion: 5400\n",
      "MSE_train: 5.364063263\n",
      "MSE_valid: 14.078489304\n",
      "Iteracion: 5500\n",
      "MSE_train: 5.316172600\n",
      "MSE_valid: 14.223365784\n",
      "Iteracion: 5600\n",
      "MSE_train: 5.238801003\n",
      "MSE_valid: 14.029176712\n",
      "Iteracion: 5700\n",
      "MSE_train: 5.180475712\n",
      "MSE_valid: 14.257795334\n",
      "Iteracion: 5800\n",
      "MSE_train: 5.213991642\n",
      "MSE_valid: 14.290029526\n",
      "Iteracion: 5900\n",
      "MSE_train: 5.081509113\n",
      "MSE_valid: 14.291939735\n",
      "Iteracion: 6000\n",
      "MSE_train: 5.068746567\n",
      "MSE_valid: 14.284950256\n",
      "Iteracion: 6100\n",
      "MSE_train: 4.935977936\n",
      "MSE_valid: 14.401047707\n",
      "Iteracion: 6200\n",
      "MSE_train: 4.866288185\n",
      "MSE_valid: 14.373984337\n",
      "Iteracion: 6300\n",
      "MSE_train: 5.047749043\n",
      "MSE_valid: 14.278117180\n",
      "Iteracion: 6400\n",
      "MSE_train: 5.066244602\n",
      "MSE_valid: 14.290284157\n",
      "Iteracion: 6500\n",
      "MSE_train: 4.757506371\n",
      "MSE_valid: 14.485301018\n",
      "Iteracion: 6600\n",
      "MSE_train: 4.882731915\n",
      "MSE_valid: 14.488733292\n",
      "Iteracion: 6700\n",
      "MSE_train: 4.914618492\n",
      "MSE_valid: 14.227955818\n",
      "Iteracion: 6800\n",
      "MSE_train: 4.876272678\n",
      "MSE_valid: 14.332463264\n",
      "Iteracion: 6900\n",
      "MSE_train: 4.818978786\n",
      "MSE_valid: 14.452803612\n",
      "Iteracion: 7000\n",
      "MSE_train: 4.766387463\n",
      "MSE_valid: 14.391369820\n",
      "Iteracion: 7100\n",
      "MSE_train: 4.808910370\n",
      "MSE_valid: 14.536753654\n",
      "Iteracion: 7200\n",
      "MSE_train: 4.796815872\n",
      "MSE_valid: 14.722601891\n",
      "Iteracion: 7300\n",
      "MSE_train: 4.730581284\n",
      "MSE_valid: 14.407326698\n",
      "Iteracion: 7400\n",
      "MSE_train: 4.856377602\n",
      "MSE_valid: 14.599056244\n",
      "Iteracion: 7500\n",
      "MSE_train: 4.669179916\n",
      "MSE_valid: 14.562677383\n",
      "Iteracion: 7600\n",
      "MSE_train: 4.799100399\n",
      "MSE_valid: 14.520002365\n",
      "Iteracion: 7700\n",
      "MSE_train: 4.639066219\n",
      "MSE_valid: 14.766494751\n",
      "Iteracion: 7800\n",
      "MSE_train: 4.591882706\n",
      "MSE_valid: 14.678297043\n",
      "Iteracion: 7900\n",
      "MSE_train: 4.628797054\n",
      "MSE_valid: 14.542114258\n",
      "Iteracion: 8000\n",
      "MSE_train: 4.553272247\n",
      "MSE_valid: 14.736269951\n",
      "Iteracion: 8100\n",
      "MSE_train: 4.754300594\n",
      "MSE_valid: 14.577233315\n",
      "Iteracion: 8200\n",
      "MSE_train: 4.639261246\n",
      "MSE_valid: 14.734326363\n",
      "Iteracion: 8300\n",
      "MSE_train: 4.520436287\n",
      "MSE_valid: 14.773001671\n",
      "Iteracion: 8400\n",
      "MSE_train: 4.555978775\n",
      "MSE_valid: 14.707370758\n",
      "Iteracion: 8500\n",
      "MSE_train: 4.469187737\n",
      "MSE_valid: 14.687721252\n",
      "Iteracion: 8600\n",
      "MSE_train: 4.427621841\n",
      "MSE_valid: 14.700217247\n",
      "Iteracion: 8700\n",
      "MSE_train: 4.476533890\n",
      "MSE_valid: 14.898097992\n",
      "Iteracion: 8800\n",
      "MSE_train: 4.605867386\n",
      "MSE_valid: 14.768090248\n",
      "Iteracion: 8900\n",
      "MSE_train: 4.425661564\n",
      "MSE_valid: 14.808993340\n",
      "Iteracion: 9000\n",
      "MSE_train: 4.295907021\n",
      "MSE_valid: 14.977114677\n",
      "Iteracion: 9100\n",
      "MSE_train: 4.483931541\n",
      "MSE_valid: 14.928361893\n",
      "Iteracion: 9200\n",
      "MSE_train: 4.404609203\n",
      "MSE_valid: 14.894598961\n",
      "Iteracion: 9300\n",
      "MSE_train: 4.418703556\n",
      "MSE_valid: 14.749838829\n",
      "Iteracion: 9400\n",
      "MSE_train: 4.434104443\n",
      "MSE_valid: 15.016848564\n",
      "Iteracion: 9500\n",
      "MSE_train: 4.360042095\n",
      "MSE_valid: 14.746786118\n",
      "Iteracion: 9600\n",
      "MSE_train: 4.330726147\n",
      "MSE_valid: 14.760520935\n",
      "Iteracion: 9700\n",
      "MSE_train: 4.418242931\n",
      "MSE_valid: 14.944603920\n",
      "Iteracion: 9800\n",
      "MSE_train: 4.384562016\n",
      "MSE_valid: 15.063855171\n",
      "Iteracion: 9900\n",
      "MSE_train: 4.523966312\n",
      "MSE_valid: 14.996673584\n",
      "Iteracion: 10000\n",
      "MSE_train: 4.433355808\n",
      "MSE_valid: 14.891986847\n"
     ]
    },
    {
     "data": {
      "image/png": "[encoded data removed]",
      "text/plain": [
       "<matplotlib.figure.Figure at 0x7f7d3fcdfcc0>"
      ]
     },
     "metadata": {},
     "output_type": "display_data"
    },
    {
     "data": {
      "image/png": "[encoded data removed]",
      "text/plain": [
       "<matplotlib.figure.Figure at 0x7f7d34795c88>"
      ]
     },
     "metadata": {},
     "output_type": "display_data"
    }
   ],
   "source": [
    "n_iterations = 10001\n",
    "\n",
    "points = []\n",
    "points_train = []\n",
    "points_valid = []\n",
    "\n",
    "fig = plt.figure()\n",
    "ax = fig.add_subplot(111)\n",
    "\n",
    "plt.ion()\n",
    "\n",
    "fig.show()\n",
    "fig.canvas.draw()\n",
    "\n",
    "with tf.Session() as sess:\n",
    "    sess.run(tf.global_variables_initializer())\n",
    "    for iteration in range(n_iterations):\n",
    "        \n",
    "        _, mse_train = sess.run([training_op, loss_training], feed_dict={x: X_train})\n",
    "        mse_valid = sess.run([loss_validation],feed_dict={x:X_valid})\n",
    "                \n",
    "        points_train.append(mse_train)\n",
    "        points_valid.append(mse_valid)\n",
    "        \n",
    "        points = np.arange(iteration + 1)\n",
    "        \n",
    "#         ax.clear()\n",
    "        \n",
    "#         ax.plot(points, points_train, color='blue')\n",
    "#         ax.plot(points, points_valid, color='red')\n",
    "#         fig.canvas.draw()\n",
    "        #time.sleep(1.0)\n",
    "        #plt.show()\n",
    "        \n",
    "        if iteration % 100 == 0:\n",
    "            print('Iteracion: {:04d}'.format(iteration))\n",
    "            print('MSE_train: {:.9f}'.format(mse_train))\n",
    "            print('MSE_valid: {:.9f}'.format(mse_valid[0]))\n",
    "            #print(mse_valid)\n",
    "            \n",
    "    saver.save(sess, \"./VAE.ckpt\")\n",
    "    \n",
    "    R = sess.run(outputs, feed_dict={x:X_valid[:10]})\n",
    "    mnist_grid(R)"
   ]
  },
  {
   "cell_type": "code",
   "execution_count": 15,
   "metadata": {},
   "outputs": [
    {
     "name": "stdout",
     "output_type": "stream",
     "text": [
      "INFO:tensorflow:Restoring parameters from ./VAE.ckpt\n"
     ]
    },
    {
     "data": {
      "image/png": "[encoded data removed]",
      "text/plain": [
       "<matplotlib.figure.Figure at 0x7f7d3467b080>"
      ]
     },
     "metadata": {},
     "output_type": "display_data"
    }
   ],
   "source": [
    "n_digits = 10\n",
    "random_codings = np.random.normal(size=[n_digits, n_hidden3])\n",
    "\n",
    "with tf.Session() as sess:\n",
    "  saver.restore(sess, \"./VAE.ckpt\")\n",
    "  generated_images = sess.run(outputs, feed_dict={hidden3: random_codings})\n",
    "\n",
    "mnist_grid(generated_images)\n",
    "#mnist_grid(X_train[random_codings])\n"
   ]
  },
  {
   "cell_type": "code",
   "execution_count": 16,
   "metadata": {},
   "outputs": [
    {
     "data": {
      "image/png": "[encoded data removed]",
      "text/plain": [
       "<matplotlib.figure.Figure at 0x7f7cf16d77b8>"
      ]
     },
     "metadata": {},
     "output_type": "display_data"
    }
   ],
   "source": [
    "points_valid[-10:]\n",
    "\n",
    "points = np.arange(len(points_train))\n",
    "plt.title('Reconstruction MNIST images 2D - VAE Dense Layers')\n",
    "plt.ylabel('MSE - Loss')\n",
    "plt.xlabel('Iterations')\n",
    "plt.plot(points, points_train, label='train')\n",
    "plt.plot(points, points_valid, label='test')\n",
    "plt.legend()\n",
    "\n",
    "plt.show()"
   ]
  },
  {
   "cell_type": "markdown",
   "metadata": {},
   "source": [
    "## VAE with CNN 2D and MNIST "
   ]
  },
  {
   "cell_type": "markdown",
   "metadata": {},
   "source": [
    "https://github.com/keras-team/keras/blob/master/examples/variational_autoencoder_deconv.py"
   ]
  },
  {
   "cell_type": "code",
   "execution_count": 1,
   "metadata": {},
   "outputs": [
    {
     "name": "stderr",
     "output_type": "stream",
     "text": [
      "/home/computadora1/miniconda3/envs/tf-1.5/lib/python3.5/site-packages/h5py/__init__.py:36: FutureWarning: Conversion of the second argument of issubdtype from `float` to `np.floating` is deprecated. In future, it will be treated as `np.float64 == np.dtype(float).type`.\n",
      "  from ._conv import register_converters as _register_converters\n",
      "Using TensorFlow backend.\n"
     ]
    }
   ],
   "source": [
    "from __future__ import print_function\n",
    "\n",
    "import numpy as np\n",
    "import matplotlib.pyplot as plt\n",
    "from scipy.stats import norm\n",
    "\n",
    "from keras.layers import Input, Dense, Lambda, Flatten, Reshape\n",
    "from keras.layers import Conv2D, Conv2DTranspose\n",
    "from keras.models import Model\n",
    "from keras import backend as K\n",
    "from keras import metrics\n",
    "from keras.datasets import mnist\n",
    "from mpl_toolkits.mplot3d import Axes3D\n",
    "%matplotlib qt"
   ]
  },
  {
   "cell_type": "code",
   "execution_count": 2,
   "metadata": {},
   "outputs": [],
   "source": [
    "# input image dimensions\n",
    "img_rows, img_cols, img_chns= 28, 28, 1\n",
    "\n",
    "filters = 64\n",
    "batch_size = 100\n",
    "\n",
    "if K.image_data_format() == 'channels_first':\n",
    "    original_img_size = (img_chns, img_rows, img_cols)\n",
    "else:\n",
    "    original_img_size = (img_rows, img_cols, img_chns)\n",
    "    \n",
    "latent_dim = 5\n",
    "intermediate_dim = 128\n",
    "epsilon_std = 1.0\n",
    "epochs = 5"
   ]
  },
  {
   "cell_type": "code",
   "execution_count": 3,
   "metadata": {},
   "outputs": [],
   "source": [
    "## ENCODER\n",
    "\n",
    "x = Input(shape=original_img_size)\n",
    "conv_1 = Conv2D(img_chns,\n",
    "                kernel_size = (2, 2),\n",
    "                padding = 'same',\n",
    "                activation = 'relu')(x)\n",
    "\n",
    "conv_2 = Conv2D(64,\n",
    "                kernel_size = (2, 2),\n",
    "                padding = 'same',\n",
    "                activation = 'relu',\n",
    "                strides = 2)(conv_1)\n",
    "\n",
    "conv_3 = Conv2D(64,\n",
    "                kernel_size = (2, 2),\n",
    "                padding = 'same',\n",
    "                activation = 'relu')(conv_2)\n",
    "                \n",
    "conv_4 = Conv2D(64,\n",
    "                kernel_size = (3, 3),\n",
    "                padding = 'same',\n",
    "                activation = 'relu')(conv_3)\n",
    "                \n",
    "flat = Flatten()(conv_4)\n",
    "hidden = Dense(intermediate_dim, activation='relu')(flat)\n",
    "                \n",
    "z_mean = Dense(latent_dim)(hidden)\n",
    "z_log_var = Dense(latent_dim)(hidden)"
   ]
  },
  {
   "cell_type": "code",
   "execution_count": 4,
   "metadata": {},
   "outputs": [],
   "source": [
    "def sampling(args):\n",
    "    z_mean, z_log_var = args\n",
    "    epsilon = K.random_normal(shape=(K.shape(z_mean)[0], latent_dim),\n",
    "                              mean = 0., stddev = epsilon_std)\n",
    "    return z_mean + K.exp(z_log_var) * epsilon"
   ]
  },
  {
   "cell_type": "code",
   "execution_count": 5,
   "metadata": {},
   "outputs": [],
   "source": [
    "z = Lambda(sampling, output_shape=(latent_dim,))([z_mean, z_log_var])\n",
    "\n",
    "decoder_hid = Dense(intermediate_dim, activation='relu')\n",
    "decoder_upsample = Dense(filters * 14 * 14, activation='relu')\n",
    "\n",
    "if K.image_data_format() == 'channels_first':\n",
    "    output_shape = (batch_size, filters, 14, 14)\n",
    "else:\n",
    "    output_shape = (batch_size, 14, 14, filters)\n",
    "    \n",
    "decoder_reshape = Reshape(output_shape[1:])\n",
    "\n",
    "decoder_deconv_1 = Conv2DTranspose(filters,\n",
    "                                   kernel_size=3,\n",
    "                                   padding='same',\n",
    "                                   activation='relu')\n",
    "\n",
    "decoder_deconv_2 = Conv2DTranspose(filters,\n",
    "                                   kernel_size=3,\n",
    "                                   padding='same',\n",
    "                                   activation='relu')\n",
    "\n",
    "if K.image_data_format() == 'channels_first':\n",
    "    output_shape = (batch_size, filters, 29, 29)\n",
    "else:\n",
    "    output_shape = (batch_size, 29, 29, filters)\n",
    "\n",
    "decoder_deconv_3_upsamp = Conv2DTranspose(filters,\n",
    "                                           kernel_size=(3, 3),\n",
    "                                           strides=2,\n",
    "                                           padding='valid',\n",
    "                                           activation='relu')\n",
    "\n",
    "decoder_mean_squash = Conv2D(img_chns,\n",
    "                             kernel_size=(2, 2),\n",
    "                             padding='valid',\n",
    "                             activation='sigmoid')"
   ]
  },
  {
   "cell_type": "code",
   "execution_count": 6,
   "metadata": {},
   "outputs": [],
   "source": [
    "hid_decoded = decoder_hid(z)\n",
    "up_decoded = decoder_upsample(hid_decoded)\n",
    "reshape_decoded = decoder_reshape(up_decoded)\n",
    "deconv_1_decoded = decoder_deconv_1(reshape_decoded)\n",
    "deconv_2_decoded = decoder_deconv_2(deconv_1_decoded)\n",
    "x_decoded_relu = decoder_deconv_3_upsamp(deconv_2_decoded)\n",
    "x_decoded_mean_squash = decoder_mean_squash(x_decoded_relu)"
   ]
  },
  {
   "cell_type": "code",
   "execution_count": 7,
   "metadata": {},
   "outputs": [],
   "source": [
    "# Instantiate VAE model\n",
    "vae = Model(x, x_decoded_mean_squash)"
   ]
  },
  {
   "cell_type": "code",
   "execution_count": 8,
   "metadata": {},
   "outputs": [
    {
     "name": "stdout",
     "output_type": "stream",
     "text": [
      "__________________________________________________________________________________________________\n",
      "Layer (type)                    Output Shape         Param #     Connected to                     \n",
      "==================================================================================================\n",
      "input_1 (InputLayer)            (None, 28, 28, 1)    0                                            \n",
      "__________________________________________________________________________________________________\n",
      "conv2d_1 (Conv2D)               (None, 28, 28, 1)    5           input_1[0][0]                    \n",
      "__________________________________________________________________________________________________\n",
      "conv2d_2 (Conv2D)               (None, 14, 14, 64)   320         conv2d_1[0][0]                   \n",
      "__________________________________________________________________________________________________\n",
      "conv2d_3 (Conv2D)               (None, 14, 14, 64)   16448       conv2d_2[0][0]                   \n",
      "__________________________________________________________________________________________________\n",
      "conv2d_4 (Conv2D)               (None, 14, 14, 64)   36928       conv2d_3[0][0]                   \n",
      "__________________________________________________________________________________________________\n",
      "flatten_1 (Flatten)             (None, 12544)        0           conv2d_4[0][0]                   \n",
      "__________________________________________________________________________________________________\n",
      "dense_1 (Dense)                 (None, 128)          1605760     flatten_1[0][0]                  \n",
      "__________________________________________________________________________________________________\n",
      "dense_2 (Dense)                 (None, 5)            645         dense_1[0][0]                    \n",
      "__________________________________________________________________________________________________\n",
      "dense_3 (Dense)                 (None, 5)            645         dense_1[0][0]                    \n",
      "__________________________________________________________________________________________________\n",
      "lambda_1 (Lambda)               (None, 5)            0           dense_2[0][0]                    \n",
      "                                                                 dense_3[0][0]                    \n",
      "__________________________________________________________________________________________________\n",
      "dense_4 (Dense)                 (None, 128)          768         lambda_1[0][0]                   \n",
      "__________________________________________________________________________________________________\n",
      "dense_5 (Dense)                 (None, 12544)        1618176     dense_4[0][0]                    \n",
      "__________________________________________________________________________________________________\n",
      "reshape_1 (Reshape)             (None, 14, 14, 64)   0           dense_5[0][0]                    \n",
      "__________________________________________________________________________________________________\n",
      "conv2d_transpose_1 (Conv2DTrans (None, 14, 14, 64)   36928       reshape_1[0][0]                  \n",
      "__________________________________________________________________________________________________\n",
      "conv2d_transpose_2 (Conv2DTrans (None, 14, 14, 64)   36928       conv2d_transpose_1[0][0]         \n",
      "__________________________________________________________________________________________________\n",
      "conv2d_transpose_3 (Conv2DTrans (None, 29, 29, 64)   36928       conv2d_transpose_2[0][0]         \n",
      "__________________________________________________________________________________________________\n",
      "conv2d_5 (Conv2D)               (None, 28, 28, 1)    257         conv2d_transpose_3[0][0]         \n",
      "==================================================================================================\n",
      "Total params: 3,390,736\n",
      "Trainable params: 3,390,736\n",
      "Non-trainable params: 0\n",
      "__________________________________________________________________________________________________\n"
     ]
    },
    {
     "name": "stderr",
     "output_type": "stream",
     "text": [
      "/home/computadora1/miniconda3/envs/tf-1.5/lib/python3.5/site-packages/ipykernel_launcher.py:10: UserWarning: Output \"conv2d_5\" missing from loss dictionary. We assume this was done on purpose, and we will not be expecting any data to be passed to \"conv2d_5\" during training.\n",
      "  # Remove the CWD from sys.path while we load stuff.\n"
     ]
    }
   ],
   "source": [
    "# Compute VAE loss\n",
    "xent_loss = img_rows * img_cols * metrics.binary_crossentropy(\n",
    "    K.flatten(x),\n",
    "    K.flatten(x_decoded_mean_squash))\n",
    "\n",
    "kl_loss = -0.5 * K.sum(1 + z_log_var - K.square(z_mean) - K.exp(z_log_var), axis=-1)\n",
    "vae_loss = K.mean(xent_loss + kl_loss)\n",
    "vae.add_loss(vae_loss)\n",
    "\n",
    "vae.compile(optimizer='rmsprop', loss=None)\n",
    "vae.summary()"
   ]
  },
  {
   "cell_type": "code",
   "execution_count": 9,
   "metadata": {},
   "outputs": [],
   "source": [
    "(x_train, _), (x_test, y_test) = mnist.load_data()"
   ]
  },
  {
   "cell_type": "code",
   "execution_count": 10,
   "metadata": {},
   "outputs": [
    {
     "name": "stdout",
     "output_type": "stream",
     "text": [
      "x_train.shape:  (60000, 28, 28, 1)\n"
     ]
    }
   ],
   "source": [
    "x_train = x_train.astype('float32') / 255.\n",
    "x_train = x_train.reshape((x_train.shape[0],) + original_img_size)\n",
    "x_test = x_test.astype('float32') / 255.\n",
    "x_test = x_test.reshape((x_test.shape[0],) + original_img_size)\n",
    "\n",
    "print('x_train.shape: ', x_train.shape)"
   ]
  },
  {
   "cell_type": "code",
   "execution_count": 11,
   "metadata": {
    "scrolled": true
   },
   "outputs": [
    {
     "name": "stdout",
     "output_type": "stream",
     "text": [
      "Train on 60000 samples, validate on 10000 samples\n",
      "Epoch 1/5\n",
      "60000/60000 [==============================] - 18s 303us/step - loss: 159.4309 - val_loss: 126.9912\n",
      "Epoch 2/5\n",
      "60000/60000 [==============================] - 16s 268us/step - loss: 122.8977 - val_loss: 120.9835\n",
      "Epoch 3/5\n",
      "60000/60000 [==============================] - 16s 270us/step - loss: 117.2577 - val_loss: 115.4527\n",
      "Epoch 4/5\n",
      "60000/60000 [==============================] - 16s 269us/step - loss: 113.9417 - val_loss: 111.6112\n",
      "Epoch 5/5\n",
      "60000/60000 [==============================] - 16s 269us/step - loss: 111.6692 - val_loss: 111.6940\n"
     ]
    },
    {
     "data": {
      "text/plain": [
       "<keras.callbacks.History at 0x7efdb103a668>"
      ]
     },
     "execution_count": 11,
     "metadata": {},
     "output_type": "execute_result"
    }
   ],
   "source": [
    "vae.fit(x_train,\n",
    "        shuffle=True,\n",
    "        epochs=epochs,\n",
    "        batch_size=batch_size,\n",
    "        validation_data=(x_test, None))"
   ]
  },
  {
   "cell_type": "code",
   "execution_count": 12,
   "metadata": {},
   "outputs": [],
   "source": [
    "# build a model to project inputs on the latent space\n",
    "encoder = Model(x, z_mean)"
   ]
  },
  {
   "cell_type": "code",
   "execution_count": 13,
   "metadata": {},
   "outputs": [],
   "source": [
    "# # display a 2D pot of the digit classes in the latent space\n",
    "x_test_encoded = encoder.predict(x_test, batch_size=batch_size)\n",
    "# #plt.figure(figsize=(6, 6))\n",
    "# fig = plt.figure(figsize=(6,6))\n",
    "# ax = fig.add_subplot(111, projection='3d') # only 3D\n",
    "# #plt.scatter(x_test_encoded[:, 0], x_test_encoded[:, 1], c=y_test)\n",
    "# ax.scatter(x_test_encoded[:, 0], x_test_encoded[:, 1], x_test_encoded[:, 2], c=y_test)\n",
    "# #ax.colorbar()\n",
    "# plt.show()"
   ]
  },
  {
   "cell_type": "code",
   "execution_count": 14,
   "metadata": {},
   "outputs": [
    {
     "name": "stdout",
     "output_type": "stream",
     "text": [
      "[[ 0.0063887   0.51698995 -0.03653416  1.4041547  -1.9875262 ]\n",
      " [-0.26675257  1.6776102   0.22105098 -0.77712876  0.37927538]\n",
      " [-0.7048173   0.91157705  0.9015707   1.4966735   0.97101337]\n",
      " ...\n",
      " [ 0.07494646 -0.44470555  0.6610737   0.6099873  -0.11358812]\n",
      " [-1.0558074  -1.2925535  -0.19319001 -0.14178328  0.10526101]\n",
      " [ 0.16070057 -0.22289358  0.6011931  -1.0404367   0.5933626 ]]\n"
     ]
    }
   ],
   "source": [
    "print(x_test_encoded)"
   ]
  },
  {
   "cell_type": "code",
   "execution_count": 32,
   "metadata": {},
   "outputs": [],
   "source": [
    "# Build a digit generator that can sample from the learned distribution\n",
    "decoder_input = Input(shape=([latent_dim,]), name=\"Input2\")\n",
    "_hid_decoded = decoder_hid(decoder_input)\n",
    "_up_decoded = decoder_upsample(_hid_decoded)\n",
    "_reshape_decoded = decoder_reshape(_up_decoded)\n",
    "_deconv_1_decoded = decoder_deconv_1(_reshape_decoded)\n",
    "_deconv_2_decoded = decoder_deconv_2(_deconv_1_decoded)\n",
    "_x_decoded_relu = decoder_deconv_3_upsamp(_deconv_2_decoded)\n",
    "_x_decoded_mean_squash = decoder_mean_squash(_x_decoded_relu)\n",
    "generator = Model(decoder_input, _x_decoded_mean_squash)"
   ]
  },
  {
   "cell_type": "code",
   "execution_count": 34,
   "metadata": {},
   "outputs": [
    {
     "name": "stdout",
     "output_type": "stream",
     "text": [
      "(?, 5)\n",
      "_________________________________________________________________\n",
      "Layer (type)                 Output Shape              Param #   \n",
      "=================================================================\n",
      "Input2 (InputLayer)          (None, 5)                 0         \n",
      "_________________________________________________________________\n",
      "dense_4 (Dense)              (None, 128)               768       \n",
      "_________________________________________________________________\n",
      "dense_5 (Dense)              (None, 12544)             1618176   \n",
      "_________________________________________________________________\n",
      "reshape_1 (Reshape)          (None, 14, 14, 64)        0         \n",
      "_________________________________________________________________\n",
      "conv2d_transpose_1 (Conv2DTr (None, 14, 14, 64)        36928     \n",
      "_________________________________________________________________\n",
      "conv2d_transpose_2 (Conv2DTr (None, 14, 14, 64)        36928     \n",
      "_________________________________________________________________\n",
      "conv2d_transpose_3 (Conv2DTr (None, 29, 29, 64)        36928     \n",
      "_________________________________________________________________\n",
      "conv2d_5 (Conv2D)            (None, 28, 28, 1)         257       \n",
      "=================================================================\n",
      "Total params: 1,729,985\n",
      "Trainable params: 1,729,985\n",
      "Non-trainable params: 0\n",
      "_________________________________________________________________\n",
      "None\n",
      "[[-1.64485363 -1.64485363]\n",
      " [-1.64485363 -1.64485363]\n",
      " [-1.64485363 -1.64485363]\n",
      " [-1.64485363 -1.64485363]\n",
      " [-1.64485363 -1.64485363]\n",
      " [-1.64485363 -1.64485363]\n",
      " [-1.64485363 -1.64485363]\n",
      " [-1.64485363 -1.64485363]\n",
      " [-1.64485363 -1.64485363]\n",
      " [-1.64485363 -1.64485363]\n",
      " [-1.64485363 -1.64485363]\n",
      " [-1.64485363 -1.64485363]\n",
      " [-1.64485363 -1.64485363]\n",
      " [-1.64485363 -1.64485363]\n",
      " [-1.64485363 -1.64485363]\n",
      " [-1.64485363 -1.64485363]\n",
      " [-1.64485363 -1.64485363]\n",
      " [-1.64485363 -1.64485363]\n",
      " [-1.64485363 -1.64485363]\n",
      " [-1.64485363 -1.64485363]\n",
      " [-1.64485363 -1.64485363]\n",
      " [-1.64485363 -1.64485363]\n",
      " [-1.64485363 -1.64485363]\n",
      " [-1.64485363 -1.64485363]\n",
      " [-1.64485363 -1.64485363]\n",
      " [-1.64485363 -1.64485363]\n",
      " [-1.64485363 -1.64485363]\n",
      " [-1.64485363 -1.64485363]\n",
      " [-1.64485363 -1.64485363]\n",
      " [-1.64485363 -1.64485363]\n",
      " [-1.64485363 -1.64485363]\n",
      " [-1.64485363 -1.64485363]\n",
      " [-1.64485363 -1.64485363]\n",
      " [-1.64485363 -1.64485363]\n",
      " [-1.64485363 -1.64485363]\n",
      " [-1.64485363 -1.64485363]\n",
      " [-1.64485363 -1.64485363]\n",
      " [-1.64485363 -1.64485363]\n",
      " [-1.64485363 -1.64485363]\n",
      " [-1.64485363 -1.64485363]\n",
      " [-1.64485363 -1.64485363]\n",
      " [-1.64485363 -1.64485363]\n",
      " [-1.64485363 -1.64485363]\n",
      " [-1.64485363 -1.64485363]\n",
      " [-1.64485363 -1.64485363]\n",
      " [-1.64485363 -1.64485363]\n",
      " [-1.64485363 -1.64485363]\n",
      " [-1.64485363 -1.64485363]\n",
      " [-1.64485363 -1.64485363]\n",
      " [-1.64485363 -1.64485363]\n",
      " [-1.64485363 -1.64485363]\n",
      " [-1.64485363 -1.64485363]\n",
      " [-1.64485363 -1.64485363]\n",
      " [-1.64485363 -1.64485363]\n",
      " [-1.64485363 -1.64485363]\n",
      " [-1.64485363 -1.64485363]\n",
      " [-1.64485363 -1.64485363]\n",
      " [-1.64485363 -1.64485363]\n",
      " [-1.64485363 -1.64485363]\n",
      " [-1.64485363 -1.64485363]\n",
      " [-1.64485363 -1.64485363]\n",
      " [-1.64485363 -1.64485363]\n",
      " [-1.64485363 -1.64485363]\n",
      " [-1.64485363 -1.64485363]\n",
      " [-1.64485363 -1.64485363]\n",
      " [-1.64485363 -1.64485363]\n",
      " [-1.64485363 -1.64485363]\n",
      " [-1.64485363 -1.64485363]\n",
      " [-1.64485363 -1.64485363]\n",
      " [-1.64485363 -1.64485363]\n",
      " [-1.64485363 -1.64485363]\n",
      " [-1.64485363 -1.64485363]\n",
      " [-1.64485363 -1.64485363]\n",
      " [-1.64485363 -1.64485363]\n",
      " [-1.64485363 -1.64485363]\n",
      " [-1.64485363 -1.64485363]\n",
      " [-1.64485363 -1.64485363]\n",
      " [-1.64485363 -1.64485363]\n",
      " [-1.64485363 -1.64485363]\n",
      " [-1.64485363 -1.64485363]\n",
      " [-1.64485363 -1.64485363]\n",
      " [-1.64485363 -1.64485363]\n",
      " [-1.64485363 -1.64485363]\n",
      " [-1.64485363 -1.64485363]\n",
      " [-1.64485363 -1.64485363]\n",
      " [-1.64485363 -1.64485363]\n",
      " [-1.64485363 -1.64485363]\n",
      " [-1.64485363 -1.64485363]\n",
      " [-1.64485363 -1.64485363]\n",
      " [-1.64485363 -1.64485363]\n",
      " [-1.64485363 -1.64485363]\n",
      " [-1.64485363 -1.64485363]\n",
      " [-1.64485363 -1.64485363]\n",
      " [-1.64485363 -1.64485363]\n",
      " [-1.64485363 -1.64485363]\n",
      " [-1.64485363 -1.64485363]\n",
      " [-1.64485363 -1.64485363]\n",
      " [-1.64485363 -1.64485363]\n",
      " [-1.64485363 -1.64485363]\n",
      " [-1.64485363 -1.64485363]]\n"
     ]
    },
    {
     "ename": "ValueError",
     "evalue": "Error when checking : expected Input2 to have shape (5,) but got array with shape (2,)",
     "output_type": "error",
     "traceback": [
      "\u001b[0;31m---------------------------------------------------------------------------\u001b[0m",
      "\u001b[0;31mValueError\u001b[0m                                Traceback (most recent call last)",
      "\u001b[0;32m<ipython-input-34-f14155f980f0>\u001b[0m in \u001b[0;36m<module>\u001b[0;34m()\u001b[0m\n\u001b[1;32m     16\u001b[0m         \u001b[0mz_sample\u001b[0m \u001b[0;34m=\u001b[0m \u001b[0mnp\u001b[0m\u001b[0;34m.\u001b[0m\u001b[0mtile\u001b[0m\u001b[0;34m(\u001b[0m\u001b[0mz_sample\u001b[0m\u001b[0;34m,\u001b[0m \u001b[0mbatch_size\u001b[0m\u001b[0;34m)\u001b[0m\u001b[0;34m.\u001b[0m\u001b[0mreshape\u001b[0m\u001b[0;34m(\u001b[0m\u001b[0mbatch_size\u001b[0m\u001b[0;34m,\u001b[0m \u001b[0;36m2\u001b[0m\u001b[0;34m)\u001b[0m\u001b[0;34m\u001b[0m\u001b[0m\n\u001b[1;32m     17\u001b[0m         \u001b[0mprint\u001b[0m\u001b[0;34m(\u001b[0m\u001b[0mz_sample\u001b[0m\u001b[0;34m)\u001b[0m\u001b[0;34m\u001b[0m\u001b[0m\n\u001b[0;32m---> 18\u001b[0;31m         \u001b[0mx_decoded\u001b[0m \u001b[0;34m=\u001b[0m \u001b[0mgenerator\u001b[0m\u001b[0;34m.\u001b[0m\u001b[0mpredict\u001b[0m\u001b[0;34m(\u001b[0m\u001b[0mz_sample\u001b[0m\u001b[0;34m,\u001b[0m \u001b[0mbatch_size\u001b[0m\u001b[0;34m=\u001b[0m\u001b[0mbatch_size\u001b[0m\u001b[0;34m)\u001b[0m\u001b[0;34m\u001b[0m\u001b[0m\n\u001b[0m\u001b[1;32m     19\u001b[0m         \u001b[0mdigit\u001b[0m \u001b[0;34m=\u001b[0m \u001b[0mx_decoded\u001b[0m\u001b[0;34m[\u001b[0m\u001b[0;36m0\u001b[0m\u001b[0;34m]\u001b[0m\u001b[0;34m.\u001b[0m\u001b[0mreshape\u001b[0m\u001b[0;34m(\u001b[0m\u001b[0mdigit_size\u001b[0m\u001b[0;34m,\u001b[0m \u001b[0mdigit_size\u001b[0m\u001b[0;34m)\u001b[0m\u001b[0;34m\u001b[0m\u001b[0m\n\u001b[1;32m     20\u001b[0m         figure[i * digit_size: (i + 1) * digit_size,\n",
      "\u001b[0;32m~/miniconda3/envs/tf-1.5/lib/python3.5/site-packages/keras/engine/training.py\u001b[0m in \u001b[0;36mpredict\u001b[0;34m(self, x, batch_size, verbose, steps)\u001b[0m\n\u001b[1;32m   1780\u001b[0m         x = _standardize_input_data(x, self._feed_input_names,\n\u001b[1;32m   1781\u001b[0m                                     \u001b[0mself\u001b[0m\u001b[0;34m.\u001b[0m\u001b[0m_feed_input_shapes\u001b[0m\u001b[0;34m,\u001b[0m\u001b[0;34m\u001b[0m\u001b[0m\n\u001b[0;32m-> 1782\u001b[0;31m                                     check_batch_axis=False)\n\u001b[0m\u001b[1;32m   1783\u001b[0m         \u001b[0;32mif\u001b[0m \u001b[0mself\u001b[0m\u001b[0;34m.\u001b[0m\u001b[0mstateful\u001b[0m\u001b[0;34m:\u001b[0m\u001b[0;34m\u001b[0m\u001b[0m\n\u001b[1;32m   1784\u001b[0m             \u001b[0;32mif\u001b[0m \u001b[0mx\u001b[0m\u001b[0;34m[\u001b[0m\u001b[0;36m0\u001b[0m\u001b[0;34m]\u001b[0m\u001b[0;34m.\u001b[0m\u001b[0mshape\u001b[0m\u001b[0;34m[\u001b[0m\u001b[0;36m0\u001b[0m\u001b[0;34m]\u001b[0m \u001b[0;34m>\u001b[0m \u001b[0mbatch_size\u001b[0m \u001b[0;32mand\u001b[0m \u001b[0mx\u001b[0m\u001b[0;34m[\u001b[0m\u001b[0;36m0\u001b[0m\u001b[0;34m]\u001b[0m\u001b[0;34m.\u001b[0m\u001b[0mshape\u001b[0m\u001b[0;34m[\u001b[0m\u001b[0;36m0\u001b[0m\u001b[0;34m]\u001b[0m \u001b[0;34m%\u001b[0m \u001b[0mbatch_size\u001b[0m \u001b[0;34m!=\u001b[0m \u001b[0;36m0\u001b[0m\u001b[0;34m:\u001b[0m\u001b[0;34m\u001b[0m\u001b[0m\n",
      "\u001b[0;32m~/miniconda3/envs/tf-1.5/lib/python3.5/site-packages/keras/engine/training.py\u001b[0m in \u001b[0;36m_standardize_input_data\u001b[0;34m(data, names, shapes, check_batch_axis, exception_prefix)\u001b[0m\n\u001b[1;32m    118\u001b[0m                             \u001b[0;34m': expected '\u001b[0m \u001b[0;34m+\u001b[0m \u001b[0mnames\u001b[0m\u001b[0;34m[\u001b[0m\u001b[0mi\u001b[0m\u001b[0;34m]\u001b[0m \u001b[0;34m+\u001b[0m \u001b[0;34m' to have shape '\u001b[0m \u001b[0;34m+\u001b[0m\u001b[0;34m\u001b[0m\u001b[0m\n\u001b[1;32m    119\u001b[0m                             \u001b[0mstr\u001b[0m\u001b[0;34m(\u001b[0m\u001b[0mshape\u001b[0m\u001b[0;34m)\u001b[0m \u001b[0;34m+\u001b[0m \u001b[0;34m' but got array with shape '\u001b[0m \u001b[0;34m+\u001b[0m\u001b[0;34m\u001b[0m\u001b[0m\n\u001b[0;32m--> 120\u001b[0;31m                             str(data_shape))\n\u001b[0m\u001b[1;32m    121\u001b[0m     \u001b[0;32mreturn\u001b[0m \u001b[0mdata\u001b[0m\u001b[0;34m\u001b[0m\u001b[0m\n\u001b[1;32m    122\u001b[0m \u001b[0;34m\u001b[0m\u001b[0m\n",
      "\u001b[0;31mValueError\u001b[0m: Error when checking : expected Input2 to have shape (5,) but got array with shape (2,)"
     ]
    }
   ],
   "source": [
    "# Display a 2D manifold of the digits\n",
    "n = 15  # figure with 15x15 digits\n",
    "digit_size = 28\n",
    "figure = np.zeros((digit_size * n, digit_size * n))\n",
    "# linearly spaced coordinates on the unit square were transformed through the inverse CDF (ppf) of the Gaussian\n",
    "# to produce values of the latent variables z, since the prior of the latent space is Gaussian\n",
    "grid_x = norm.ppf(np.linspace(0.05, 0.95, n))\n",
    "grid_y = norm.ppf(np.linspace(0.05, 0.95, n))\n",
    "\n",
    "print(decoder_input.shape)\n",
    "print(generator.summary())\n",
    "\n",
    "for i, yi in enumerate(grid_x):\n",
    "    for j, xi in enumerate(grid_y):\n",
    "        z_sample = np.array([[xi, yi]])\n",
    "        z_sample = np.tile(z_sample, batch_size).reshape(batch_size, 2)\n",
    "        print(z_sample)\n",
    "        x_decoded = generator.predict(z_sample, batch_size=batch_size)\n",
    "        digit = x_decoded[0].reshape(digit_size, digit_size)\n",
    "        figure[i * digit_size: (i + 1) * digit_size,\n",
    "               j * digit_size: (j + 1) * digit_size] = digit\n",
    "\n",
    "plt.figure(figsize=(10, 10))\n",
    "plt.imshow(figure, cmap='Greys_r')\n",
    "plt.show()"
   ]
  },
  {
   "cell_type": "code",
   "execution_count": null,
   "metadata": {},
   "outputs": [],
   "source": [
    "# Arreglar error en z_sample"
   ]
  }
 ],
 "metadata": {
  "anaconda-cloud": {},
  "kernelspec": {
   "display_name": "Python 3",
   "language": "python",
   "name": "python3"
  },
  "language_info": {
   "codemirror_mode": {
    "name": "ipython",
    "version": 3
   },
   "file_extension": ".py",
   "mimetype": "text/x-python",
   "name": "python",
   "nbconvert_exporter": "python",
   "pygments_lexer": "ipython3",
   "version": "3.5.4"
  },
  "widgets": {
   "state": {},
   "version": "1.1.2"
  }
 },
 "nbformat": 4,
 "nbformat_minor": 1
}
