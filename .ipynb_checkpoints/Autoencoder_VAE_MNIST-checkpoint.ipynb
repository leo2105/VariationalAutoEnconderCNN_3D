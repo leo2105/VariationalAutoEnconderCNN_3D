{
 "cells": [
  {
   "cell_type": "markdown",
   "metadata": {},
   "source": [
    "## VAE with NN-FullyConnected 2D and MNIST"
   ]
  },
  {
   "cell_type": "code",
   "execution_count": null,
   "metadata": {},
   "outputs": [],
   "source": [
    "import tensorflow as tf\n",
    "import time\n",
    "import numpy as np\n",
    "print(tf.__version__)\n",
    "\n",
    "# %matplotlib inline\n",
    "# %load_ext autoreload\n",
    "# %autoreload 2\n",
    "# %matplotlib notebook"
   ]
  },
  {
   "cell_type": "code",
   "execution_count": null,
   "metadata": {},
   "outputs": [],
   "source": [
    "from tensorflow.examples.tutorials.mnist import input_data\n",
    "mnist = input_data.read_data_sets(\"MNIST_data/\", one_hot=True, reshape=True)"
   ]
  },
  {
   "cell_type": "code",
   "execution_count": null,
   "metadata": {},
   "outputs": [],
   "source": [
    "import matplotlib.pyplot as plt\n",
    "from matplotlib.pyplot import figure, imshow, axis\n",
    "\n",
    "\n",
    "def mnist_grid(X):\n",
    "    X = X.reshape([-1,28,28])\n",
    "    num_images = X.shape[0]\n",
    "    fig = figure()\n",
    "    fig.set_size_inches(10,10)\n",
    "    \n",
    "    for i in range(num_images):\n",
    "        a = fig.add_subplot(1, num_images, i+1)\n",
    "        image = X[i,:]\n",
    "        imshow(image, cmap='gray')\n",
    "        axis('off')\n",
    "    \n",
    "    plt.show()"
   ]
  },
  {
   "cell_type": "code",
   "execution_count": null,
   "metadata": {},
   "outputs": [],
   "source": [
    "X_train = mnist.train.images[:3000]\n",
    "X_valid= mnist.validation.images[:750]\n",
    "mnist_grid(X_train[:10])\n",
    "print(X_train.shape)\n",
    "print(X_valid.shape)\n",
    "type(X_train)"
   ]
  },
  {
   "cell_type": "code",
   "execution_count": null,
   "metadata": {},
   "outputs": [],
   "source": [
    "tf.reset_default_graph()\n",
    "\n",
    "n_inputs = X_train.shape[1]\n",
    "n_hidden1 = 256\n",
    "n_hidden2 = 256\n",
    "n_hidden3 = 32\n",
    "n_hidden4 = n_hidden2\n",
    "n_hidden5 = n_hidden1\n",
    "n_outputs = n_inputs\n",
    "\n",
    "x = tf.placeholder(tf.float32, shape=[None, n_inputs])\n",
    "hidden1 = tf.layers.dense(x, n_hidden1, activation=tf.nn.elu)\n",
    "hidden2 = tf.layers.dense(hidden1, n_hidden2, activation=tf.nn.elu)\n",
    "hidden3_mean = tf.layers.dense(hidden2, n_hidden3, activation=None)\n",
    "hidden3_sigma = tf.layers.dense(hidden2, n_hidden3, activation=None)\n",
    "noise = tf.random_normal(tf.shape(hidden3_sigma), dtype=tf.float32)\n",
    "hidden3 = hidden3_mean + hidden3_sigma * noise\n",
    "hidden4 = tf.layers.dense(hidden3, n_hidden4, activation=tf.nn.elu)\n",
    "hidden5 = tf.layers.dense(hidden4, n_hidden5, activation=tf.nn.elu)\n",
    "logits = tf.layers.dense(hidden5, n_outputs, activation=None)\n",
    "outputs = tf.sigmoid(logits)\n",
    "\n",
    "\n",
    "#\n",
    "# Funcion de perdida (MSE) y entrenamiento\n",
    "#\n",
    "xentropy = tf.nn.sigmoid_cross_entropy_with_logits(labels=x, logits=logits)\n",
    "xentropy_loss = tf.reduce_sum(xentropy)\n",
    "eps = 1e-10\n",
    "latent_loss = 0.5 * tf.reduce_sum(\n",
    "    # centre en 0 y los demas los centre a 1\n",
    "    tf.square(hidden3_sigma) + tf.square(hidden3_mean) - 1 - tf.log(eps + tf.square(hidden3_sigma))\n",
    ") \n",
    "\n",
    "loss = xentropy_loss + latent_loss\n",
    "\n",
    "mse_loss = tf.reduce_mean(tf.reduce_sum(tf.square(x - outputs), axis=1))\n",
    "\n",
    "optimizer = tf.train.AdamOptimizer()\n",
    "training_op = optimizer.minimize(loss)\n",
    "saver = tf.train.Saver()"
   ]
  },
  {
   "cell_type": "code",
   "execution_count": null,
   "metadata": {},
   "outputs": [],
   "source": [
    "tf.reset_default_graph()\n",
    "\n",
    "n_inputs = X_train.shape[1]\n",
    "n_hidden1 = 256\n",
    "n_hidden2 = 256\n",
    "n_hidden3 = 32\n",
    "n_hidden4 = n_hidden2\n",
    "n_hidden5 = n_hidden1\n",
    "n_outputs = n_inputs\n",
    "\n",
    "x = tf.placeholder(tf.float32, shape=[None, n_inputs])\n",
    "hidden1 = tf.layers.dense(x, n_hidden1, activation=tf.nn.elu)\n",
    "hidden2 = tf.layers.dense(hidden1, n_hidden2, activation=tf.nn.elu)\n",
    "hidden3_mean = tf.layers.dense(hidden2, n_hidden3, activation=None)\n",
    "hidden3_sigma = tf.layers.dense(hidden2, n_hidden3, activation=None)\n",
    "noise = tf.random_normal(tf.shape(hidden3_sigma), dtype=tf.float32)\n",
    "hidden3 = hidden3_mean + hidden3_sigma * noise\n",
    "hidden4 = tf.layers.dense(hidden3, n_hidden4, activation=tf.nn.elu)\n",
    "hidden5 = tf.layers.dense(hidden4, n_hidden5, activation=tf.nn.elu)\n",
    "logits = tf.layers.dense(hidden5, n_outputs, activation=None)\n",
    "outputs = tf.sigmoid(logits)\n",
    "\n",
    "# MSE loss\n",
    "def lossFunction(X):\n",
    "    mse_loss = tf.reduce_mean(tf.reduce_sum(tf.square(X - outputs), axis=1))\n",
    "    return mse_loss\n",
    "\n",
    "#\n",
    "# Funcion de perdida (MSE) y entrenamiento\n",
    "#\n",
    "xentropy = tf.nn.sigmoid_cross_entropy_with_logits(labels=x, logits=logits)\n",
    "xentropy_loss = tf.reduce_sum(xentropy)\n",
    "eps = 1e-10\n",
    "latent_loss = 0.5 * tf.reduce_sum(\n",
    "    # centre en 0 y los demas los centre a 1\n",
    "    tf.square(hidden3_sigma) + tf.square(hidden3_mean) - 1 - tf.log(eps + tf.square(hidden3_sigma))\n",
    ") \n",
    "\n",
    "loss = xentropy_loss + latent_loss\n",
    "\n",
    "optimizer = tf.train.AdamOptimizer()\n",
    "training_op = optimizer.minimize(loss)\n",
    "\n",
    "loss_training = lossFunction(X_train) \n",
    "loss_validation = lossFunction(X_valid)\n",
    "\n",
    "saver = tf.train.Saver()"
   ]
  },
  {
   "cell_type": "code",
   "execution_count": null,
   "metadata": {},
   "outputs": [],
   "source": [
    "n_iterations = 10001\n",
    "\n",
    "with tf.Session() as sess:\n",
    "    sess.run(tf.global_variables_initializer())\n",
    "    for iteration in range(n_iterations):\n",
    "        _, mse = sess.run([training_op, mse_loss], feed_dict={x: X})\n",
    "        \n",
    "        if iteration % 100 == 0:\n",
    "            print('Iteración: {:04d}, MSE: {:.9f}'.format(iteration, mse))\n",
    "            R = sess.run(outputs, feed_dict={x:X[:10]})\n",
    "            mnist_grid(R)\n",
    "    saver.save(sess, \"./VAE.ckpt\")"
   ]
  },
  {
   "cell_type": "code",
   "execution_count": null,
   "metadata": {
    "scrolled": true
   },
   "outputs": [],
   "source": [
    "n_iterations = 10001\n",
    "\n",
    "points = []\n",
    "points_train = []\n",
    "points_valid = []\n",
    "\n",
    "fig = plt.figure()\n",
    "ax = fig.add_subplot(111)\n",
    "\n",
    "plt.ion()\n",
    "\n",
    "fig.show()\n",
    "fig.canvas.draw()\n",
    "\n",
    "with tf.Session() as sess:\n",
    "    sess.run(tf.global_variables_initializer())\n",
    "    for iteration in range(n_iterations):\n",
    "        \n",
    "        _, mse_train = sess.run([training_op, loss_training], feed_dict={x: X_train})\n",
    "        mse_valid = sess.run([loss_validation],feed_dict={x:X_valid})\n",
    "                \n",
    "        points_train.append(mse_train)\n",
    "        points_valid.append(mse_valid)\n",
    "        \n",
    "        points = np.arange(iteration + 1)\n",
    "        \n",
    "#         ax.clear()\n",
    "        \n",
    "#         ax.plot(points, points_train, color='blue')\n",
    "#         ax.plot(points, points_valid, color='red')\n",
    "#         fig.canvas.draw()\n",
    "        #time.sleep(1.0)\n",
    "        #plt.show()\n",
    "        \n",
    "        if iteration % 100 == 0:\n",
    "            print('Iteracion: {:04d}'.format(iteration))\n",
    "            print('MSE_train: {:.9f}'.format(mse_train))\n",
    "            print('MSE_valid: {:.9f}'.format(mse_valid[0]))\n",
    "            #print(mse_valid)\n",
    "            \n",
    "    saver.save(sess, \"./VAE.ckpt\")\n",
    "    \n",
    "    R = sess.run(outputs, feed_dict={x:X_valid[:10]})\n",
    "    mnist_grid(R)"
   ]
  },
  {
   "cell_type": "code",
   "execution_count": null,
   "metadata": {},
   "outputs": [],
   "source": [
    "n_digits = 10\n",
    "random_codings = np.random.normal(size=[n_digits, n_hidden3])\n",
    "\n",
    "with tf.Session() as sess:\n",
    "  saver.restore(sess, \"./VAE.ckpt\")\n",
    "  generated_images = sess.run(outputs, feed_dict={hidden3: random_codings})\n",
    "\n",
    "mnist_grid(generated_images)\n",
    "#mnist_grid(X_train[random_codings])\n"
   ]
  },
  {
   "cell_type": "code",
   "execution_count": null,
   "metadata": {},
   "outputs": [],
   "source": [
    "points_valid[-10:]\n",
    "\n",
    "points = np.arange(len(points_train))\n",
    "plt.title('Reconstruction MNIST images 2D - VAE Dense Layers')\n",
    "plt.ylabel('MSE - Loss')\n",
    "plt.xlabel('Iterations')\n",
    "plt.plot(points, points_train, label='train')\n",
    "plt.plot(points, points_valid, label='test')\n",
    "plt.legend()\n",
    "\n",
    "plt.show()"
   ]
  },
  {
   "cell_type": "markdown",
   "metadata": {},
   "source": [
    "## VAE with CNN 2D and MNIST "
   ]
  },
  {
   "cell_type": "markdown",
   "metadata": {},
   "source": [
    "- https://github.com/keras-team/keras/blob/master/examples/variational_autoencoder_deconv.py\n",
    "- https://blog.keras.io/building-autoencoders-in-keras.html"
   ]
  },
  {
   "cell_type": "code",
   "execution_count": 37,
   "metadata": {},
   "outputs": [],
   "source": [
    "from __future__ import print_function\n",
    "\n",
    "import numpy as np\n",
    "import matplotlib.pyplot as plt\n",
    "import tensorflow as tf\n",
    "from scipy.stats import norm\n",
    "\n",
    "from keras.layers import Input, Dense, Lambda, Flatten, Reshape\n",
    "from keras.layers import Conv2D, Conv2DTranspose\n",
    "from keras.models import Model\n",
    "from keras import backend as K\n",
    "from keras import metrics\n",
    "from keras.datasets import mnist\n",
    "from mpl_toolkits.mplot3d import Axes3D\n",
    "%matplotlib qt"
   ]
  },
  {
   "cell_type": "code",
   "execution_count": 70,
   "metadata": {},
   "outputs": [],
   "source": [
    "tf.reset_default_graph()\n",
    "sess = tf.InteractiveSession()\n",
    "\n",
    "# input image dimensions\n",
    "img_rows, img_cols, img_chns= 28, 28, 1\n",
    "\n",
    "filters = 64\n",
    "batch_size = 100\n",
    "\n",
    "if K.image_data_format() == 'channels_first':\n",
    "    original_img_size = (img_chns, img_rows, img_cols)\n",
    "else:\n",
    "    original_img_size = (img_rows, img_cols, img_chns)\n",
    "    \n",
    "latent_dim = 2\n",
    "intermediate_dim = 128\n",
    "epsilon_std = 1.0\n",
    "epochs = 5"
   ]
  },
  {
   "cell_type": "code",
   "execution_count": 71,
   "metadata": {},
   "outputs": [],
   "source": [
    "## ENCODER\n",
    "\n",
    "x = Input(shape=original_img_size)\n",
    "conv_1 = Conv2D(img_chns,\n",
    "                kernel_size = (2, 2),\n",
    "                padding = 'same',\n",
    "                activation = 'relu')(x)\n",
    "\n",
    "conv_2 = Conv2D(64,\n",
    "                kernel_size = (2, 2),\n",
    "                padding = 'same',\n",
    "                activation = 'relu',\n",
    "                strides = 2)(conv_1)\n",
    "\n",
    "conv_3 = Conv2D(64,\n",
    "                kernel_size = (2, 2),\n",
    "                padding = 'same',\n",
    "                activation = 'relu')(conv_2)\n",
    "                \n",
    "conv_4 = Conv2D(64,\n",
    "                kernel_size = (3, 3),\n",
    "                padding = 'same',\n",
    "                activation = 'relu')(conv_3)\n",
    "                \n",
    "flat = Flatten()(conv_4)\n",
    "hidden = Dense(intermediate_dim, activation='relu')(flat)\n",
    "                \n",
    "z_mean = Dense(latent_dim)(hidden)\n",
    "z_log_var = Dense(latent_dim)(hidden)"
   ]
  },
  {
   "cell_type": "code",
   "execution_count": 72,
   "metadata": {},
   "outputs": [],
   "source": [
    "def sampling(args):\n",
    "    z_mean, z_log_var = args\n",
    "    epsilon = K.random_normal(shape=(K.shape(z_mean)[0], latent_dim),\n",
    "                              mean = 0., stddev = epsilon_std)\n",
    "    return z_mean + K.exp(z_log_var) * epsilon"
   ]
  },
  {
   "cell_type": "code",
   "execution_count": 73,
   "metadata": {},
   "outputs": [],
   "source": [
    "z = Lambda(sampling, output_shape=(latent_dim,))([z_mean, z_log_var])\n",
    "\n",
    "decoder_hid = Dense(intermediate_dim, activation='relu')\n",
    "decoder_upsample = Dense(filters * 14 * 14, activation='relu')\n",
    "\n",
    "if K.image_data_format() == 'channels_first':\n",
    "    output_shape = (batch_size, filters, 14, 14)\n",
    "else:\n",
    "    output_shape = (batch_size, 14, 14, filters)\n",
    "    \n",
    "decoder_reshape = Reshape(output_shape[1:])\n",
    "\n",
    "decoder_deconv_1 = Conv2DTranspose(filters,\n",
    "                                   kernel_size=3,\n",
    "                                   padding='same',\n",
    "                                   activation='relu')\n",
    "\n",
    "decoder_deconv_2 = Conv2DTranspose(filters,\n",
    "                                   kernel_size=3,\n",
    "                                   padding='same',\n",
    "                                   activation='relu')\n",
    "\n",
    "if K.image_data_format() == 'channels_first':\n",
    "    output_shape = (batch_size, filters, 29, 29)\n",
    "else:\n",
    "    output_shape = (batch_size, 29, 29, filters)\n",
    "\n",
    "decoder_deconv_3_upsamp = Conv2DTranspose(filters,\n",
    "                                           kernel_size=(3, 3),\n",
    "                                           strides=2,\n",
    "                                           padding='valid',\n",
    "                                           activation='relu')\n",
    "\n",
    "decoder_mean_squash = Conv2D(img_chns,\n",
    "                             kernel_size=(2, 2),\n",
    "                             padding='valid',\n",
    "                             activation='sigmoid')"
   ]
  },
  {
   "cell_type": "code",
   "execution_count": 74,
   "metadata": {},
   "outputs": [],
   "source": [
    "hid_decoded = decoder_hid(z)\n",
    "up_decoded = decoder_upsample(hid_decoded)\n",
    "reshape_decoded = decoder_reshape(up_decoded)\n",
    "deconv_1_decoded = decoder_deconv_1(reshape_decoded)\n",
    "deconv_2_decoded = decoder_deconv_2(deconv_1_decoded)\n",
    "x_decoded_relu = decoder_deconv_3_upsamp(deconv_2_decoded)\n",
    "x_decoded_mean_squash = decoder_mean_squash(x_decoded_relu)"
   ]
  },
  {
   "cell_type": "code",
   "execution_count": 75,
   "metadata": {},
   "outputs": [],
   "source": [
    "# Instantiate VAE model\n",
    "vae = Model(x, x_decoded_mean_squash)"
   ]
  },
  {
   "cell_type": "code",
   "execution_count": 76,
   "metadata": {},
   "outputs": [
    {
     "name": "stdout",
     "output_type": "stream",
     "text": [
      "__________________________________________________________________________________________________\n",
      "Layer (type)                    Output Shape         Param #     Connected to                     \n",
      "==================================================================================================\n",
      "input_1 (InputLayer)            (None, 28, 28, 1)    0                                            \n",
      "__________________________________________________________________________________________________\n",
      "conv2d_1 (Conv2D)               (None, 28, 28, 1)    5           input_1[0][0]                    \n",
      "__________________________________________________________________________________________________\n",
      "conv2d_2 (Conv2D)               (None, 14, 14, 64)   320         conv2d_1[0][0]                   \n",
      "__________________________________________________________________________________________________\n",
      "conv2d_3 (Conv2D)               (None, 14, 14, 64)   16448       conv2d_2[0][0]                   \n",
      "__________________________________________________________________________________________________\n",
      "conv2d_4 (Conv2D)               (None, 14, 14, 64)   36928       conv2d_3[0][0]                   \n",
      "__________________________________________________________________________________________________\n",
      "flatten_1 (Flatten)             (None, 12544)        0           conv2d_4[0][0]                   \n",
      "__________________________________________________________________________________________________\n",
      "dense_1 (Dense)                 (None, 128)          1605760     flatten_1[0][0]                  \n",
      "__________________________________________________________________________________________________\n",
      "dense_2 (Dense)                 (None, 2)            258         dense_1[0][0]                    \n",
      "__________________________________________________________________________________________________\n",
      "dense_3 (Dense)                 (None, 2)            258         dense_1[0][0]                    \n",
      "__________________________________________________________________________________________________\n",
      "lambda_1 (Lambda)               (None, 2)            0           dense_2[0][0]                    \n",
      "                                                                 dense_3[0][0]                    \n",
      "__________________________________________________________________________________________________\n",
      "dense_4 (Dense)                 (None, 128)          384         lambda_1[0][0]                   \n",
      "__________________________________________________________________________________________________\n",
      "dense_5 (Dense)                 (None, 12544)        1618176     dense_4[0][0]                    \n",
      "__________________________________________________________________________________________________\n",
      "reshape_1 (Reshape)             (None, 14, 14, 64)   0           dense_5[0][0]                    \n",
      "__________________________________________________________________________________________________\n",
      "conv2d_transpose_1 (Conv2DTrans (None, 14, 14, 64)   36928       reshape_1[0][0]                  \n",
      "__________________________________________________________________________________________________\n",
      "conv2d_transpose_2 (Conv2DTrans (None, 14, 14, 64)   36928       conv2d_transpose_1[0][0]         \n",
      "__________________________________________________________________________________________________\n",
      "conv2d_transpose_3 (Conv2DTrans (None, 29, 29, 64)   36928       conv2d_transpose_2[0][0]         \n",
      "__________________________________________________________________________________________________\n",
      "conv2d_5 (Conv2D)               (None, 28, 28, 1)    257         conv2d_transpose_3[0][0]         \n",
      "==================================================================================================\n",
      "Total params: 3,389,578\n",
      "Trainable params: 3,389,578\n",
      "Non-trainable params: 0\n",
      "__________________________________________________________________________________________________\n"
     ]
    },
    {
     "name": "stderr",
     "output_type": "stream",
     "text": [
      "/home/computadora1/miniconda3/envs/tf-1.5/lib/python3.5/site-packages/ipykernel_launcher.py:10: UserWarning: Output \"conv2d_5\" missing from loss dictionary. We assume this was done on purpose, and we will not be expecting any data to be passed to \"conv2d_5\" during training.\n",
      "  # Remove the CWD from sys.path while we load stuff.\n"
     ]
    }
   ],
   "source": [
    "# Compute VAE loss\n",
    "xent_loss = img_rows * img_cols * metrics.binary_crossentropy(\n",
    "    K.flatten(x),\n",
    "    K.flatten(x_decoded_mean_squash))\n",
    "\n",
    "kl_loss = -0.5 * K.sum(1 + z_log_var - K.square(z_mean) - K.exp(z_log_var), axis=-1)\n",
    "vae_loss = K.mean(xent_loss + kl_loss)\n",
    "vae.add_loss(vae_loss)\n",
    "\n",
    "vae.compile(optimizer='rmsprop', loss=None)\n",
    "vae.summary()"
   ]
  },
  {
   "cell_type": "code",
   "execution_count": 77,
   "metadata": {},
   "outputs": [],
   "source": [
    "(x_train, _), (x_test, y_test) = mnist.load_data()"
   ]
  },
  {
   "cell_type": "code",
   "execution_count": 78,
   "metadata": {},
   "outputs": [
    {
     "name": "stdout",
     "output_type": "stream",
     "text": [
      "x_train.shape:  (60000, 28, 28, 1)\n"
     ]
    }
   ],
   "source": [
    "x_train = x_train.astype('float32') / 255.\n",
    "x_train = x_train.reshape((x_train.shape[0],) + original_img_size)\n",
    "x_test = x_test.astype('float32') / 255.\n",
    "x_test = x_test.reshape((x_test.shape[0],) + original_img_size)\n",
    "\n",
    "print('x_train.shape: ', x_train.shape)"
   ]
  },
  {
   "cell_type": "code",
   "execution_count": 79,
   "metadata": {
    "scrolled": true
   },
   "outputs": [
    {
     "name": "stdout",
     "output_type": "stream",
     "text": [
      "Train on 60000 samples, validate on 10000 samples\n",
      "Epoch 1/5\n",
      "60000/60000 [==============================] - 37s 618us/step - loss: 54580206.9214 - val_loss: 168.5978\n",
      "Epoch 2/5\n",
      "60000/60000 [==============================] - 37s 611us/step - loss: 157.7774 - val_loss: 152.7640\n",
      "Epoch 3/5\n",
      "60000/60000 [==============================] - 37s 612us/step - loss: 150.1098 - val_loss: 148.0057\n",
      "Epoch 4/5\n",
      "60000/60000 [==============================] - 37s 609us/step - loss: 146.5041 - val_loss: 144.7664\n",
      "Epoch 5/5\n",
      "60000/60000 [==============================] - 37s 621us/step - loss: 144.4154 - val_loss: 143.6667\n"
     ]
    },
    {
     "data": {
      "text/plain": [
       "<keras.callbacks.History at 0x7f22507b68d0>"
      ]
     },
     "execution_count": 79,
     "metadata": {},
     "output_type": "execute_result"
    }
   ],
   "source": [
    "vae.fit(x_train,\n",
    "        shuffle=True,\n",
    "        epochs=epochs,\n",
    "        batch_size=batch_size,\n",
    "        validation_data=(x_test, None))"
   ]
  },
  {
   "cell_type": "code",
   "execution_count": 81,
   "metadata": {},
   "outputs": [],
   "source": [
    "# build a model to project inputs on the latent space\n",
    "encoder = Model(x, z_mean)"
   ]
  },
  {
   "cell_type": "code",
   "execution_count": 84,
   "metadata": {},
   "outputs": [],
   "source": [
    "# # display a 2D pot of the digit classes in the latent space\n",
    "x_test_encoded = encoder.predict(x_test, batch_size=batch_size)\n",
    "plt.figure(figsize=(6, 6))\n",
    "plt.scatter(x_test_encoded[:, 0], x_test_encoded[:, 1], c=y_test)\n",
    "plt.colorbar()\n",
    "plt.show()"
   ]
  },
  {
   "cell_type": "code",
   "execution_count": 85,
   "metadata": {},
   "outputs": [
    {
     "name": "stdout",
     "output_type": "stream",
     "text": [
      "[[-2.1581752   1.3175181 ]\n",
      " [-0.20772721 -0.3790458 ]\n",
      " [ 1.4416317   1.4302037 ]\n",
      " ...\n",
      " [-0.39933634  0.6529395 ]\n",
      " [ 0.940584    0.07650044]\n",
      " [ 0.41955882 -0.7035808 ]]\n"
     ]
    }
   ],
   "source": [
    "print(x_test_encoded)"
   ]
  },
  {
   "cell_type": "code",
   "execution_count": 86,
   "metadata": {},
   "outputs": [],
   "source": [
    "# Build a digit generator that can sample from the learned distribution\n",
    "decoder_input = Input(shape=(latent_dim,))\n",
    "_hid_decoded = decoder_hid(decoder_input)\n",
    "_up_decoded = decoder_upsample(_hid_decoded)\n",
    "_reshape_decoded = decoder_reshape(_up_decoded)\n",
    "_deconv_1_decoded = decoder_deconv_1(_reshape_decoded)\n",
    "_deconv_2_decoded = decoder_deconv_2(_deconv_1_decoded)\n",
    "_x_decoded_relu = decoder_deconv_3_upsamp(_deconv_2_decoded)\n",
    "_x_decoded_mean_squash = decoder_mean_squash(_x_decoded_relu)\n",
    "generator = Model(decoder_input, _x_decoded_mean_squash)"
   ]
  },
  {
   "cell_type": "code",
   "execution_count": 87,
   "metadata": {},
   "outputs": [
    {
     "name": "stdout",
     "output_type": "stream",
     "text": [
      "(?, 2)\n",
      "_________________________________________________________________\n",
      "Layer (type)                 Output Shape              Param #   \n",
      "=================================================================\n",
      "input_2 (InputLayer)         (None, 2)                 0         \n",
      "_________________________________________________________________\n",
      "dense_4 (Dense)              (None, 128)               384       \n",
      "_________________________________________________________________\n",
      "dense_5 (Dense)              (None, 12544)             1618176   \n",
      "_________________________________________________________________\n",
      "reshape_1 (Reshape)          (None, 14, 14, 64)        0         \n",
      "_________________________________________________________________\n",
      "conv2d_transpose_1 (Conv2DTr (None, 14, 14, 64)        36928     \n",
      "_________________________________________________________________\n",
      "conv2d_transpose_2 (Conv2DTr (None, 14, 14, 64)        36928     \n",
      "_________________________________________________________________\n",
      "conv2d_transpose_3 (Conv2DTr (None, 29, 29, 64)        36928     \n",
      "_________________________________________________________________\n",
      "conv2d_5 (Conv2D)            (None, 28, 28, 1)         257       \n",
      "=================================================================\n",
      "Total params: 1,729,601\n",
      "Trainable params: 1,729,601\n",
      "Non-trainable params: 0\n",
      "_________________________________________________________________\n",
      "None\n"
     ]
    }
   ],
   "source": [
    "# Display a 2D manifold of the digits\n",
    "n = 15  # figure with 15x15 digits\n",
    "digit_size = 28\n",
    "figure = np.zeros((digit_size * n, digit_size * n))\n",
    "# linearly spaced coordinates on the unit square were transformed through the inverse CDF (ppf) of the Gaussian\n",
    "# to produce values of the latent variables z, since the prior of the latent space is Gaussian\n",
    "grid_x = norm.ppf(np.linspace(0.05, 0.95, n))\n",
    "grid_y = norm.ppf(np.linspace(0.05, 0.95, n))\n",
    "\n",
    "print(decoder_input.shape)\n",
    "print(generator.summary())\n",
    "\n",
    "for i, yi in enumerate(grid_x):\n",
    "    for j, xi in enumerate(grid_y):\n",
    "        z_sample = np.array([[xi, yi]])\n",
    "        z_sample = np.tile(z_sample, batch_size).reshape(batch_size, 2)\n",
    "        #print(z_sample)\n",
    "        x_decoded = generator.predict(z_sample, batch_size=batch_size)\n",
    "        digit = x_decoded[0].reshape(digit_size, digit_size)\n",
    "        figure[i * digit_size: (i + 1) * digit_size,\n",
    "               j * digit_size: (j + 1) * digit_size] = digit\n",
    "\n",
    "plt.figure(figsize=(10, 10))\n",
    "plt.imshow(figure, cmap='Greys_r')\n",
    "plt.show()"
   ]
  },
  {
   "cell_type": "code",
   "execution_count": null,
   "metadata": {},
   "outputs": [],
   "source": []
  }
 ],
 "metadata": {
  "anaconda-cloud": {},
  "kernelspec": {
   "display_name": "Python 3",
   "language": "python",
   "name": "python3"
  },
  "language_info": {
   "codemirror_mode": {
    "name": "ipython",
    "version": 3
   },
   "file_extension": ".py",
   "mimetype": "text/x-python",
   "name": "python",
   "nbconvert_exporter": "python",
   "pygments_lexer": "ipython3",
   "version": "3.5.4"
  },
  "widgets": {
   "state": {},
   "version": "1.1.2"
  }
 },
 "nbformat": 4,
 "nbformat_minor": 1
}
