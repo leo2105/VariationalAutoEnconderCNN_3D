{
 "cells": [
  {
   "cell_type": "markdown",
   "metadata": {},
   "source": [
    "### VAE with NN-FullyConnected 2D and MNIST"
   ]
  },
  {
   "cell_type": "code",
   "execution_count": 2,
   "metadata": {},
   "outputs": [
    {
     "name": "stdout",
     "output_type": "stream",
     "text": [
      "1.4.0\n"
     ]
    }
   ],
   "source": [
    "import tensorflow as tf\n",
    "import time\n",
    "import numpy as np\n",
    "print(tf.__version__)\n",
    "\n",
    "# %matplotlib inline\n",
    "# %load_ext autoreload\n",
    "# %autoreload 2\n",
    "# %matplotlib notebook"
   ]
  },
  {
   "cell_type": "code",
   "execution_count": 3,
   "metadata": {},
   "outputs": [
    {
     "name": "stdout",
     "output_type": "stream",
     "text": [
      "Extracting MNIST_data/train-images-idx3-ubyte.gz\n",
      "Extracting MNIST_data/train-labels-idx1-ubyte.gz\n",
      "Extracting MNIST_data/t10k-images-idx3-ubyte.gz\n",
      "Extracting MNIST_data/t10k-labels-idx1-ubyte.gz\n"
     ]
    }
   ],
   "source": [
    "from tensorflow.examples.tutorials.mnist import input_data\n",
    "mnist = input_data.read_data_sets(\"MNIST_data/\", one_hot=True, reshape=True)"
   ]
  },
  {
   "cell_type": "code",
   "execution_count": 4,
   "metadata": {},
   "outputs": [],
   "source": [
    "import matplotlib.pyplot as plt\n",
    "from matplotlib.pyplot import figure, imshow, axis\n",
    "\n",
    "\n",
    "def mnist_grid(X):\n",
    "    X = X.reshape([-1,28,28])\n",
    "    num_images = X.shape[0]\n",
    "    fig = figure()\n",
    "    fig.set_size_inches(10,10)\n",
    "    \n",
    "    for i in range(num_images):\n",
    "        a = fig.add_subplot(1, num_images, i+1)\n",
    "        image = X[i,:]\n",
    "        imshow(image, cmap='gray')\n",
    "        axis('off')\n",
    "    \n",
    "    plt.show()"
   ]
  },
  {
   "cell_type": "code",
   "execution_count": 5,
   "metadata": {},
   "outputs": [
    {
     "data": {
      "image/png": "[encoded data removed]",
      "text/plain": [
       "<matplotlib.figure.Figure at 0x7f4e5b28b710>"
      ]
     },
     "metadata": {},
     "output_type": "display_data"
    },
    {
     "name": "stdout",
     "output_type": "stream",
     "text": [
      "(3000, 784)\n",
      "(750, 784)\n"
     ]
    },
    {
     "data": {
      "text/plain": [
       "numpy.ndarray"
      ]
     },
     "execution_count": 5,
     "metadata": {},
     "output_type": "execute_result"
    }
   ],
   "source": [
    "X_train = mnist.train.images[:3000]\n",
    "X_valid= mnist.validation.images[:750]\n",
    "mnist_grid(X_train[:10])\n",
    "print(X_train.shape)\n",
    "print(X_valid.shape)\n",
    "type(X_train)"
   ]
  },
  {
   "cell_type": "code",
   "execution_count": null,
   "metadata": {},
   "outputs": [],
   "source": [
    "tf.reset_default_graph()\n",
    "\n",
    "n_inputs = X_train.shape[1]\n",
    "n_hidden1 = 256\n",
    "n_hidden2 = 256\n",
    "n_hidden3 = 32\n",
    "n_hidden4 = n_hidden2\n",
    "n_hidden5 = n_hidden1\n",
    "n_outputs = n_inputs\n",
    "\n",
    "x = tf.placeholder(tf.float32, shape=[None, n_inputs])\n",
    "hidden1 = tf.layers.dense(x, n_hidden1, activation=tf.nn.elu)\n",
    "hidden2 = tf.layers.dense(hidden1, n_hidden2, activation=tf.nn.elu)\n",
    "hidden3_mean = tf.layers.dense(hidden2, n_hidden3, activation=None)\n",
    "hidden3_sigma = tf.layers.dense(hidden2, n_hidden3, activation=None)\n",
    "noise = tf.random_normal(tf.shape(hidden3_sigma), dtype=tf.float32)\n",
    "hidden3 = hidden3_mean + hidden3_sigma * noise\n",
    "hidden4 = tf.layers.dense(hidden3, n_hidden4, activation=tf.nn.elu)\n",
    "hidden5 = tf.layers.dense(hidden4, n_hidden5, activation=tf.nn.elu)\n",
    "logits = tf.layers.dense(hidden5, n_outputs, activation=None)\n",
    "outputs = tf.sigmoid(logits)\n",
    "\n",
    "\n",
    "#\n",
    "# Funcion de perdida (MSE) y entrenamiento\n",
    "#\n",
    "xentropy = tf.nn.sigmoid_cross_entropy_with_logits(labels=x, logits=logits)\n",
    "xentropy_loss = tf.reduce_sum(xentropy)\n",
    "eps = 1e-10\n",
    "latent_loss = 0.5 * tf.reduce_sum(\n",
    "    # centre en 0 y los demas los centre a 1\n",
    "    tf.square(hidden3_sigma) + tf.square(hidden3_mean) - 1 - tf.log(eps + tf.square(hidden3_sigma))\n",
    ") \n",
    "\n",
    "loss = xentropy_loss + latent_loss\n",
    "\n",
    "mse_loss = tf.reduce_mean(tf.reduce_sum(tf.square(x - outputs), axis=1))\n",
    "\n",
    "optimizer = tf.train.AdamOptimizer()\n",
    "training_op = optimizer.minimize(loss)\n",
    "saver = tf.train.Saver()"
   ]
  },
  {
   "cell_type": "code",
   "execution_count": null,
   "metadata": {},
   "outputs": [],
   "source": [
    "tf.reset_default_graph()\n",
    "\n",
    "n_inputs = X_train.shape[1]\n",
    "n_hidden1 = 256\n",
    "n_hidden2 = 256\n",
    "n_hidden3 = 32\n",
    "n_hidden4 = n_hidden2\n",
    "n_hidden5 = n_hidden1\n",
    "n_outputs = n_inputs\n",
    "\n",
    "x = tf.placeholder(tf.float32, shape=[None, n_inputs])\n",
    "hidden1 = tf.layers.dense(x, n_hidden1, activation=tf.nn.elu)\n",
    "hidden2 = tf.layers.dense(hidden1, n_hidden2, activation=tf.nn.elu)\n",
    "hidden3_mean = tf.layers.dense(hidden2, n_hidden3, activation=None)\n",
    "hidden3_sigma = tf.layers.dense(hidden2, n_hidden3, activation=None)\n",
    "noise = tf.random_normal(tf.shape(hidden3_sigma), dtype=tf.float32)\n",
    "hidden3 = hidden3_mean + hidden3_sigma * noise\n",
    "hidden4 = tf.layers.dense(hidden3, n_hidden4, activation=tf.nn.elu)\n",
    "hidden5 = tf.layers.dense(hidden4, n_hidden5, activation=tf.nn.elu)\n",
    "logits = tf.layers.dense(hidden5, n_outputs, activation=None)\n",
    "outputs = tf.sigmoid(logits)\n",
    "\n",
    "# MSE loss\n",
    "def lossFunction(X):\n",
    "    mse_loss = tf.reduce_mean(tf.reduce_sum(tf.square(X - outputs), axis=1))\n",
    "    return mse_loss\n",
    "\n",
    "#\n",
    "# Funcion de perdida (MSE) y entrenamiento\n",
    "#\n",
    "xentropy = tf.nn.sigmoid_cross_entropy_with_logits(labels=x, logits=logits)\n",
    "xentropy_loss = tf.reduce_sum(xentropy)\n",
    "eps = 1e-10\n",
    "latent_loss = 0.5 * tf.reduce_sum(\n",
    "    # centre en 0 y los demas los centre a 1\n",
    "    tf.square(hidden3_sigma) + tf.square(hidden3_mean) - 1 - tf.log(eps + tf.square(hidden3_sigma))\n",
    ") \n",
    "\n",
    "loss = xentropy_loss + latent_loss\n",
    "\n",
    "optimizer = tf.train.AdamOptimizer()\n",
    "training_op = optimizer.minimize(loss)\n",
    "\n",
    "loss_training = lossFunction(X_train) \n",
    "loss_validation = lossFunction(X_valid)\n",
    "\n",
    "saver = tf.train.Saver()"
   ]
  },
  {
   "cell_type": "code",
   "execution_count": null,
   "metadata": {},
   "outputs": [],
   "source": [
    "n_iterations = 10001\n",
    "\n",
    "with tf.Session() as sess:\n",
    "    sess.run(tf.global_variables_initializer())\n",
    "    for iteration in range(n_iterations):\n",
    "        _, mse = sess.run([training_op, mse_loss], feed_dict={x: X})\n",
    "        \n",
    "        if iteration % 100 == 0:\n",
    "            print('Iteración: {:04d}, MSE: {:.9f}'.format(iteration, mse))\n",
    "            R = sess.run(outputs, feed_dict={x:X[:10]})\n",
    "            mnist_grid(R)\n",
    "    saver.save(sess, \"./VAE.ckpt\")"
   ]
  },
  {
   "cell_type": "code",
   "execution_count": null,
   "metadata": {
    "scrolled": true
   },
   "outputs": [],
   "source": [
    "n_iterations = 10001\n",
    "\n",
    "points = []\n",
    "points_train = []\n",
    "points_valid = []\n",
    "\n",
    "fig = plt.figure()\n",
    "ax = fig.add_subplot(111)\n",
    "\n",
    "plt.ion()\n",
    "\n",
    "fig.show()\n",
    "fig.canvas.draw()\n",
    "\n",
    "with tf.Session() as sess:\n",
    "    sess.run(tf.global_variables_initializer())\n",
    "    for iteration in range(n_iterations):\n",
    "        \n",
    "        _, mse_train = sess.run([training_op, loss_training], feed_dict={x: X_train})\n",
    "        mse_valid = sess.run([loss_validation],feed_dict={x:X_valid})\n",
    "                \n",
    "#         points_train.append(mse_train)\n",
    "#         points_valid.append(mse_valid)\n",
    "        \n",
    "#         points = np.arange(iteration + 1)\n",
    "        \n",
    "#         ax.clear()\n",
    "        \n",
    "#         ax.plot(points, points_train, color='blue')\n",
    "#         ax.plot(points, points_valid, color='red')\n",
    "#         fig.canvas.draw()\n",
    "        #time.sleep(1.0)\n",
    "        #plt.show()\n",
    "        \n",
    "        if iteration % 100 == 0:\n",
    "            print('Iteracion: {:04d}'.format(iteration))\n",
    "            print('MSE_train: {:.9f}'.format(mse_train))\n",
    "            print('MSE_valid: {:.9f}'.format(mse_valid[0]))\n",
    "            #print(mse_valid)\n",
    "            \n",
    "    #saver.save(sess, \"./VAE.ckpt\")\n",
    "    \n",
    "    #R = sess.run(outputs, feed_dict={x:X_valid[:10]})\n",
    "    #mnist_grid(R)"
   ]
  },
  {
   "cell_type": "code",
   "execution_count": null,
   "metadata": {},
   "outputs": [],
   "source": [
    "n_digits = 10\n",
    "random_codings = np.random.normal(size=[n_digits, n_hidden3])\n",
    "\n",
    "with tf.Session() as sess:\n",
    "  saver.restore(sess, \"./VAE.ckpt\")\n",
    "  generated_images = sess.run(outputs, feed_dict={hidden3: random_codings})\n",
    "\n",
    "mnist_grid(generated_images)\n",
    "mnist_grid(X_train[random_codings])\n"
   ]
  },
  {
   "cell_type": "code",
   "execution_count": null,
   "metadata": {},
   "outputs": [],
   "source": [
    "points_valid[-10:]\n",
    "\n",
    "points = np.arange(len(points_train))\n",
    "plt.title('Reconstruction MNIST images 2D - VAE Dense Layers')\n",
    "plt.ylabel('MSE - Loss')\n",
    "plt.xlabel('Iterations')\n",
    "plt.plot(points, points_train, label='train')\n",
    "plt.plot(points, points_valid, label='test')\n",
    "plt.legend()\n",
    "\n",
    "plt.show()"
   ]
  },
  {
   "cell_type": "markdown",
   "metadata": {},
   "source": [
    "## VAE with CNN 2D and MNIST "
   ]
  },
  {
   "cell_type": "markdown",
   "metadata": {},
   "source": [
    "https://github.com/keras-team/keras/blob/master/examples/variational_autoencoder_deconv.py"
   ]
  }
 ],
 "metadata": {
  "anaconda-cloud": {},
  "kernelspec": {
   "display_name": "Python 3",
   "language": "python",
   "name": "python3"
  },
  "language_info": {
   "codemirror_mode": {
    "name": "ipython",
    "version": 3
   },
   "file_extension": ".py",
   "mimetype": "text/x-python",
   "name": "python",
   "nbconvert_exporter": "python",
   "pygments_lexer": "ipython3",
   "version": "3.5.4"
  },
  "widgets": {
   "state": {},
   "version": "1.1.2"
  }
 },
 "nbformat": 4,
 "nbformat_minor": 1
}
